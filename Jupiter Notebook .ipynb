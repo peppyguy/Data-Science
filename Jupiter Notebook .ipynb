{
 "cells": [
  {
   "cell_type": "markdown",
   "metadata": {
    "slideshow": {
     "slide_type": "slide"
    }
   },
   "source": [
    "\n",
    "\n",
    "\n",
    "\n",
    "# <center> Can we predict when an issue will be resolved?\n",
    "    \n",
    "    \n",
    "    \n",
    " ## <center> Xccelerated Assignment  on the JIRA AVRO issues workflow \n",
    "\n",
    "### <center> by Joao Gomes, Amsterdam 2018"
   ]
  },
  {
   "cell_type": "markdown",
   "metadata": {
    "slideshow": {
     "slide_type": "slide"
    }
   },
   "source": [
    "## Outline\n",
    "\n",
    "* Introduction\n",
    "* Data preliminary analysis\n",
    "* Feature engineering\n",
    "* Training Algorithms:\n",
    "\n",
    "    * Random Forests\n",
    "    * K-Nearest Neighbors\n",
    "    * Lasso Regression\n",
    "    * Gradient Boosting Regression\n",
    "\n",
    "* Discussion\n",
    "* Conclusions\n",
    "\n",
    "* Description of the scripts:\n",
    "    \n",
    "    1. Fake_GET\n",
    "    2. Training \n",
    "    3. Prediciton_GET\n",
    "    4. Release_Plan\n",
    "    \n",
    "\n"
   ]
  },
  {
   "cell_type": "markdown",
   "metadata": {
    "slideshow": {
     "slide_type": "slide"
    }
   },
   "source": [
    "# Introduction\n",
    "\n",
    "### The AVRO issue JIRA workflow\n",
    "\n",
    "![alt text]( AVRO-issue.png \"Title\")"
   ]
  },
  {
   "cell_type": "markdown",
   "metadata": {
    "slideshow": {
     "slide_type": "notes"
    }
   },
   "source": [
    "We load the various data files and make a preliminary exploratory analysis."
   ]
  },
  {
   "cell_type": "markdown",
   "metadata": {
    "slideshow": {
     "slide_type": "slide"
    }
   },
   "source": [
    "# Data Preliminary Analysis"
   ]
  },
  {
   "cell_type": "code",
   "execution_count": 1,
   "metadata": {
    "slideshow": {
     "slide_type": "skip"
    }
   },
   "outputs": [],
   "source": [
    "import pandas as pd\n",
    "import numpy as np\n",
    "import matplotlib.pyplot as plt\n",
    "import json"
   ]
  },
  {
   "cell_type": "code",
   "execution_count": 2,
   "metadata": {
    "slideshow": {
     "slide_type": "subslide"
    }
   },
   "outputs": [],
   "source": [
    "#Loading Data\n",
    "\n",
    "data_issues=pd.read_json('/Users/JoaoGomes/Dropbox/Xcelerated/assessment/data/avro-issues.json',lines=True)"
   ]
  },
  {
   "cell_type": "code",
   "execution_count": 341,
   "metadata": {
    "slideshow": {
     "slide_type": "subslide"
    }
   },
   "outputs": [
    {
     "data": {
      "text/plain": [
       "Index(['_id', 'changelog', 'editmeta', 'expand', 'fields', 'id', 'key',\n",
       "       'names', 'operations', 'renderedFields', 'schema', 'self',\n",
       "       'transitions'],\n",
       "      dtype='object')"
      ]
     },
     "execution_count": 341,
     "metadata": {},
     "output_type": "execute_result"
    }
   ],
   "source": [
    "# Name of columns\n",
    "\n",
    "data_issues.columns"
   ]
  },
  {
   "cell_type": "code",
   "execution_count": 3,
   "metadata": {
    "slideshow": {
     "slide_type": "subslide"
    }
   },
   "outputs": [
    {
     "data": {
      "text/html": [
       "<div>\n",
       "<style scoped>\n",
       "    .dataframe tbody tr th:only-of-type {\n",
       "        vertical-align: middle;\n",
       "    }\n",
       "\n",
       "    .dataframe tbody tr th {\n",
       "        vertical-align: top;\n",
       "    }\n",
       "\n",
       "    .dataframe thead th {\n",
       "        text-align: right;\n",
       "    }\n",
       "</style>\n",
       "<table border=\"1\" class=\"dataframe\">\n",
       "  <thead>\n",
       "    <tr style=\"text-align: right;\">\n",
       "      <th></th>\n",
       "      <th>_id</th>\n",
       "      <th>changelog</th>\n",
       "      <th>editmeta</th>\n",
       "      <th>expand</th>\n",
       "      <th>fields</th>\n",
       "      <th>id</th>\n",
       "      <th>key</th>\n",
       "      <th>names</th>\n",
       "      <th>operations</th>\n",
       "      <th>renderedFields</th>\n",
       "      <th>schema</th>\n",
       "      <th>self</th>\n",
       "      <th>transitions</th>\n",
       "    </tr>\n",
       "  </thead>\n",
       "  <tbody>\n",
       "    <tr>\n",
       "      <th>0</th>\n",
       "      <td>AVRO-2171</td>\n",
       "      <td>{'total': 5, 'startAt': 0, 'histories': [{'ite...</td>\n",
       "      <td>{'fields': {}}</td>\n",
       "      <td>renderedFields,names,schema,transitions,operat...</td>\n",
       "      <td>{'labels': ['website'], 'customfield_12310420'...</td>\n",
       "      <td>13153159</td>\n",
       "      <td>AVRO-2171</td>\n",
       "      <td>{'labels': 'Labels', 'customfield_12310420': '...</td>\n",
       "      <td>{'linkGroups': [{'links': [], 'id': 'view.issu...</td>\n",
       "      <td>{'labels': None, 'customfield_12310420': None,...</td>\n",
       "      <td>{'labels': {'items': 'string', 'type': 'array'...</td>\n",
       "      <td>https://issues.apache.org/jira/rest/api/2/issu...</td>\n",
       "      <td>[]</td>\n",
       "    </tr>\n",
       "    <tr>\n",
       "      <th>1</th>\n",
       "      <td>AVRO-2170</td>\n",
       "      <td>{'total': 5, 'startAt': 0, 'histories': [{'ite...</td>\n",
       "      <td>{'fields': {}}</td>\n",
       "      <td>renderedFields,names,schema,transitions,operat...</td>\n",
       "      <td>{'labels': ['website'], 'customfield_12310420'...</td>\n",
       "      <td>13153155</td>\n",
       "      <td>AVRO-2170</td>\n",
       "      <td>{'labels': 'Labels', 'customfield_12310420': '...</td>\n",
       "      <td>{'linkGroups': [{'links': [], 'id': 'view.issu...</td>\n",
       "      <td>{'labels': None, 'customfield_12310420': None,...</td>\n",
       "      <td>{'labels': {'items': 'string', 'type': 'array'...</td>\n",
       "      <td>https://issues.apache.org/jira/rest/api/2/issu...</td>\n",
       "      <td>[]</td>\n",
       "    </tr>\n",
       "    <tr>\n",
       "      <th>2</th>\n",
       "      <td>AVRO-2169</td>\n",
       "      <td>{'total': 1, 'startAt': 0, 'histories': [{'ite...</td>\n",
       "      <td>{'fields': {}}</td>\n",
       "      <td>renderedFields,names,schema,transitions,operat...</td>\n",
       "      <td>{'labels': [], 'customfield_12310420': '922337...</td>\n",
       "      <td>13150595</td>\n",
       "      <td>AVRO-2169</td>\n",
       "      <td>{'labels': 'Labels', 'customfield_12310420': '...</td>\n",
       "      <td>{'linkGroups': [{'links': [], 'id': 'view.issu...</td>\n",
       "      <td>{'labels': None, 'customfield_12310420': None,...</td>\n",
       "      <td>{'labels': {'items': 'string', 'type': 'array'...</td>\n",
       "      <td>https://issues.apache.org/jira/rest/api/2/issu...</td>\n",
       "      <td>[]</td>\n",
       "    </tr>\n",
       "    <tr>\n",
       "      <th>3</th>\n",
       "      <td>AVRO-2168</td>\n",
       "      <td>{'total': 2, 'startAt': 0, 'histories': [{'ite...</td>\n",
       "      <td>{'fields': {}}</td>\n",
       "      <td>renderedFields,names,schema,transitions,operat...</td>\n",
       "      <td>{'labels': [], 'customfield_12310420': '922337...</td>\n",
       "      <td>13150292</td>\n",
       "      <td>AVRO-2168</td>\n",
       "      <td>{'labels': 'Labels', 'customfield_12310420': '...</td>\n",
       "      <td>{'linkGroups': [{'links': [], 'id': 'view.issu...</td>\n",
       "      <td>{'labels': None, 'customfield_12310420': None,...</td>\n",
       "      <td>{'labels': {'items': 'string', 'type': 'array'...</td>\n",
       "      <td>https://issues.apache.org/jira/rest/api/2/issu...</td>\n",
       "      <td>[]</td>\n",
       "    </tr>\n",
       "    <tr>\n",
       "      <th>4</th>\n",
       "      <td>AVRO-2167</td>\n",
       "      <td>{'total': 1, 'startAt': 0, 'histories': [{'ite...</td>\n",
       "      <td>{'fields': {}}</td>\n",
       "      <td>renderedFields,names,schema,transitions,operat...</td>\n",
       "      <td>{'labels': [], 'customfield_12310420': '922337...</td>\n",
       "      <td>13150071</td>\n",
       "      <td>AVRO-2167</td>\n",
       "      <td>{'labels': 'Labels', 'customfield_12310420': '...</td>\n",
       "      <td>{'linkGroups': [{'links': [], 'id': 'view.issu...</td>\n",
       "      <td>{'labels': None, 'customfield_12310420': None,...</td>\n",
       "      <td>{'labels': {'items': 'string', 'type': 'array'...</td>\n",
       "      <td>https://issues.apache.org/jira/rest/api/2/issu...</td>\n",
       "      <td>[]</td>\n",
       "    </tr>\n",
       "  </tbody>\n",
       "</table>\n",
       "</div>"
      ],
      "text/plain": [
       "         _id                                          changelog  \\\n",
       "0  AVRO-2171  {'total': 5, 'startAt': 0, 'histories': [{'ite...   \n",
       "1  AVRO-2170  {'total': 5, 'startAt': 0, 'histories': [{'ite...   \n",
       "2  AVRO-2169  {'total': 1, 'startAt': 0, 'histories': [{'ite...   \n",
       "3  AVRO-2168  {'total': 2, 'startAt': 0, 'histories': [{'ite...   \n",
       "4  AVRO-2167  {'total': 1, 'startAt': 0, 'histories': [{'ite...   \n",
       "\n",
       "         editmeta                                             expand  \\\n",
       "0  {'fields': {}}  renderedFields,names,schema,transitions,operat...   \n",
       "1  {'fields': {}}  renderedFields,names,schema,transitions,operat...   \n",
       "2  {'fields': {}}  renderedFields,names,schema,transitions,operat...   \n",
       "3  {'fields': {}}  renderedFields,names,schema,transitions,operat...   \n",
       "4  {'fields': {}}  renderedFields,names,schema,transitions,operat...   \n",
       "\n",
       "                                              fields        id        key  \\\n",
       "0  {'labels': ['website'], 'customfield_12310420'...  13153159  AVRO-2171   \n",
       "1  {'labels': ['website'], 'customfield_12310420'...  13153155  AVRO-2170   \n",
       "2  {'labels': [], 'customfield_12310420': '922337...  13150595  AVRO-2169   \n",
       "3  {'labels': [], 'customfield_12310420': '922337...  13150292  AVRO-2168   \n",
       "4  {'labels': [], 'customfield_12310420': '922337...  13150071  AVRO-2167   \n",
       "\n",
       "                                               names  \\\n",
       "0  {'labels': 'Labels', 'customfield_12310420': '...   \n",
       "1  {'labels': 'Labels', 'customfield_12310420': '...   \n",
       "2  {'labels': 'Labels', 'customfield_12310420': '...   \n",
       "3  {'labels': 'Labels', 'customfield_12310420': '...   \n",
       "4  {'labels': 'Labels', 'customfield_12310420': '...   \n",
       "\n",
       "                                          operations  \\\n",
       "0  {'linkGroups': [{'links': [], 'id': 'view.issu...   \n",
       "1  {'linkGroups': [{'links': [], 'id': 'view.issu...   \n",
       "2  {'linkGroups': [{'links': [], 'id': 'view.issu...   \n",
       "3  {'linkGroups': [{'links': [], 'id': 'view.issu...   \n",
       "4  {'linkGroups': [{'links': [], 'id': 'view.issu...   \n",
       "\n",
       "                                      renderedFields  \\\n",
       "0  {'labels': None, 'customfield_12310420': None,...   \n",
       "1  {'labels': None, 'customfield_12310420': None,...   \n",
       "2  {'labels': None, 'customfield_12310420': None,...   \n",
       "3  {'labels': None, 'customfield_12310420': None,...   \n",
       "4  {'labels': None, 'customfield_12310420': None,...   \n",
       "\n",
       "                                              schema  \\\n",
       "0  {'labels': {'items': 'string', 'type': 'array'...   \n",
       "1  {'labels': {'items': 'string', 'type': 'array'...   \n",
       "2  {'labels': {'items': 'string', 'type': 'array'...   \n",
       "3  {'labels': {'items': 'string', 'type': 'array'...   \n",
       "4  {'labels': {'items': 'string', 'type': 'array'...   \n",
       "\n",
       "                                                self transitions  \n",
       "0  https://issues.apache.org/jira/rest/api/2/issu...          []  \n",
       "1  https://issues.apache.org/jira/rest/api/2/issu...          []  \n",
       "2  https://issues.apache.org/jira/rest/api/2/issu...          []  \n",
       "3  https://issues.apache.org/jira/rest/api/2/issu...          []  \n",
       "4  https://issues.apache.org/jira/rest/api/2/issu...          []  "
      ]
     },
     "execution_count": 3,
     "metadata": {},
     "output_type": "execute_result"
    }
   ],
   "source": [
    "data_issues.head()"
   ]
  },
  {
   "cell_type": "code",
   "execution_count": 339,
   "metadata": {
    "slideshow": {
     "slide_type": "subslide"
    }
   },
   "outputs": [
    {
     "data": {
      "text/plain": [
       "{'histories': [{'author': {'active': True,\n",
       "    'avatarUrls': {'16x16': 'https://issues.apache.org/jira/secure/useravatar?size=xsmall&avatarId=10452',\n",
       "     '24x24': 'https://issues.apache.org/jira/secure/useravatar?size=small&avatarId=10452',\n",
       "     '32x32': 'https://issues.apache.org/jira/secure/useravatar?size=medium&avatarId=10452',\n",
       "     '48x48': 'https://issues.apache.org/jira/secure/useravatar?avatarId=10452'},\n",
       "    'displayName': 'Roy Lenferink',\n",
       "    'emailAddress': 'lenferinkroy at gmail dot com',\n",
       "    'key': 'rlenferink',\n",
       "    'name': 'rlenferink',\n",
       "    'self': 'https://issues.apache.org/jira/rest/api/2/user?username=rlenferink',\n",
       "    'timeZone': 'Europe/Amsterdam'},\n",
       "   'created': '2018-04-17T21:55:48.755+0000',\n",
       "   'id': '16768043',\n",
       "   'items': [{'field': 'Attachment',\n",
       "     'fieldtype': 'jira',\n",
       "     'from': None,\n",
       "     'fromString': None,\n",
       "     'to': '12919489',\n",
       "     'toString': 'AVRO-2171.patch'}]},\n",
       "  {'author': {'active': True,\n",
       "    'avatarUrls': {'16x16': 'https://issues.apache.org/jira/secure/useravatar?size=xsmall&ownerId=busbey&avatarId=13233',\n",
       "     '24x24': 'https://issues.apache.org/jira/secure/useravatar?size=small&ownerId=busbey&avatarId=13233',\n",
       "     '32x32': 'https://issues.apache.org/jira/secure/useravatar?size=medium&ownerId=busbey&avatarId=13233',\n",
       "     '48x48': 'https://issues.apache.org/jira/secure/useravatar?ownerId=busbey&avatarId=13233'},\n",
       "    'displayName': 'Sean Busbey',\n",
       "    'emailAddress': 'busbey at cloudera dot com',\n",
       "    'key': 'busbey',\n",
       "    'name': 'busbey',\n",
       "    'self': 'https://issues.apache.org/jira/rest/api/2/user?username=busbey',\n",
       "    'timeZone': 'America/Chicago'},\n",
       "   'created': '2018-04-18T01:33:44.401+0000',\n",
       "   'id': '16768383',\n",
       "   'items': [{'field': 'assignee',\n",
       "     'fieldtype': 'jira',\n",
       "     'from': None,\n",
       "     'fromString': None,\n",
       "     'to': 'rlenferink',\n",
       "     'toString': 'Roy Lenferink'}]},\n",
       "  {'author': {'active': True,\n",
       "    'avatarUrls': {'16x16': 'https://issues.apache.org/jira/secure/useravatar?size=xsmall&ownerId=busbey&avatarId=13233',\n",
       "     '24x24': 'https://issues.apache.org/jira/secure/useravatar?size=small&ownerId=busbey&avatarId=13233',\n",
       "     '32x32': 'https://issues.apache.org/jira/secure/useravatar?size=medium&ownerId=busbey&avatarId=13233',\n",
       "     '48x48': 'https://issues.apache.org/jira/secure/useravatar?ownerId=busbey&avatarId=13233'},\n",
       "    'displayName': 'Sean Busbey',\n",
       "    'emailAddress': 'busbey at cloudera dot com',\n",
       "    'key': 'busbey',\n",
       "    'name': 'busbey',\n",
       "    'self': 'https://issues.apache.org/jira/rest/api/2/user?username=busbey',\n",
       "    'timeZone': 'America/Chicago'},\n",
       "   'created': '2018-04-18T01:33:49.088+0000',\n",
       "   'id': '16768384',\n",
       "   'items': [{'field': 'status',\n",
       "     'fieldtype': 'jira',\n",
       "     'from': '1',\n",
       "     'fromString': 'Open',\n",
       "     'to': '10002',\n",
       "     'toString': 'Patch Available'}]},\n",
       "  {'author': {'active': True,\n",
       "    'avatarUrls': {'16x16': 'https://issues.apache.org/jira/secure/useravatar?size=xsmall&ownerId=busbey&avatarId=13233',\n",
       "     '24x24': 'https://issues.apache.org/jira/secure/useravatar?size=small&ownerId=busbey&avatarId=13233',\n",
       "     '32x32': 'https://issues.apache.org/jira/secure/useravatar?size=medium&ownerId=busbey&avatarId=13233',\n",
       "     '48x48': 'https://issues.apache.org/jira/secure/useravatar?ownerId=busbey&avatarId=13233'},\n",
       "    'displayName': 'Sean Busbey',\n",
       "    'emailAddress': 'busbey at cloudera dot com',\n",
       "    'key': 'busbey',\n",
       "    'name': 'busbey',\n",
       "    'self': 'https://issues.apache.org/jira/rest/api/2/user?username=busbey',\n",
       "    'timeZone': 'America/Chicago'},\n",
       "   'created': '2018-04-18T01:33:54.022+0000',\n",
       "   'id': '16768385',\n",
       "   'items': [{'field': 'Component',\n",
       "     'fieldtype': 'jira',\n",
       "     'from': None,\n",
       "     'fromString': None,\n",
       "     'to': '12330815',\n",
       "     'toString': 'community'}]},\n",
       "  {'author': {'active': True,\n",
       "    'avatarUrls': {'16x16': 'https://issues.apache.org/jira/secure/useravatar?size=xsmall&ownerId=busbey&avatarId=13233',\n",
       "     '24x24': 'https://issues.apache.org/jira/secure/useravatar?size=small&ownerId=busbey&avatarId=13233',\n",
       "     '32x32': 'https://issues.apache.org/jira/secure/useravatar?size=medium&ownerId=busbey&avatarId=13233',\n",
       "     '48x48': 'https://issues.apache.org/jira/secure/useravatar?ownerId=busbey&avatarId=13233'},\n",
       "    'displayName': 'Sean Busbey',\n",
       "    'emailAddress': 'busbey at cloudera dot com',\n",
       "    'key': 'busbey',\n",
       "    'name': 'busbey',\n",
       "    'self': 'https://issues.apache.org/jira/rest/api/2/user?username=busbey',\n",
       "    'timeZone': 'America/Chicago'},\n",
       "   'created': '2018-04-21T15:44:36.753+0000',\n",
       "   'id': '16778743',\n",
       "   'items': [{'field': 'status',\n",
       "     'fieldtype': 'jira',\n",
       "     'from': '10002',\n",
       "     'fromString': 'Patch Available',\n",
       "     'to': '3',\n",
       "     'toString': 'In Progress'}]}],\n",
       " 'maxResults': 5,\n",
       " 'startAt': 0,\n",
       " 'total': 5}"
      ]
     },
     "execution_count": 339,
     "metadata": {},
     "output_type": "execute_result"
    }
   ],
   "source": [
    "data_issues['changelog'][0]"
   ]
  },
  {
   "cell_type": "code",
   "execution_count": 345,
   "metadata": {
    "slideshow": {
     "slide_type": "subslide"
    }
   },
   "outputs": [
    {
     "data": {
      "text/plain": [
       "5"
      ]
     },
     "execution_count": 345,
     "metadata": {},
     "output_type": "execute_result"
    }
   ],
   "source": [
    "# Number of histories\n",
    "\n",
    "data_issues['changelog'][0]['total']"
   ]
  },
  {
   "cell_type": "code",
   "execution_count": 344,
   "metadata": {
    "slideshow": {
     "slide_type": "subslide"
    }
   },
   "outputs": [
    {
     "data": {
      "text/plain": [
       "{'author': {'active': True,\n",
       "  'avatarUrls': {'16x16': 'https://issues.apache.org/jira/secure/useravatar?size=xsmall&ownerId=busbey&avatarId=13233',\n",
       "   '24x24': 'https://issues.apache.org/jira/secure/useravatar?size=small&ownerId=busbey&avatarId=13233',\n",
       "   '32x32': 'https://issues.apache.org/jira/secure/useravatar?size=medium&ownerId=busbey&avatarId=13233',\n",
       "   '48x48': 'https://issues.apache.org/jira/secure/useravatar?ownerId=busbey&avatarId=13233'},\n",
       "  'displayName': 'Sean Busbey',\n",
       "  'emailAddress': 'busbey at cloudera dot com',\n",
       "  'key': 'busbey',\n",
       "  'name': 'busbey',\n",
       "  'self': 'https://issues.apache.org/jira/rest/api/2/user?username=busbey',\n",
       "  'timeZone': 'America/Chicago'},\n",
       " 'created': '2018-04-21T15:44:36.753+0000',\n",
       " 'id': '16778743',\n",
       " 'items': [{'field': 'status',\n",
       "   'fieldtype': 'jira',\n",
       "   'from': '10002',\n",
       "   'fromString': 'Patch Available',\n",
       "   'to': '3',\n",
       "   'toString': 'In Progress'}]}"
      ]
     },
     "execution_count": 344,
     "metadata": {},
     "output_type": "execute_result"
    }
   ],
   "source": [
    "# Look at histories\n",
    "\n",
    "data_issues['changelog'][0]['histories'][4]"
   ]
  },
  {
   "cell_type": "markdown",
   "metadata": {
    "slideshow": {
     "slide_type": "subslide"
    }
   },
   "source": [
    "## An issue can go through various status changes:\n",
    "\n",
    "### Open -> In Progress -> Patch Available -> Resolved -> Reopened -> Resolved -> Closed\n",
    "(Not necessarily in this order)"
   ]
  },
  {
   "cell_type": "code",
   "execution_count": 4,
   "metadata": {
    "slideshow": {
     "slide_type": "skip"
    }
   },
   "outputs": [],
   "source": [
    "data_issues_csv=pd.read_csv('/Users/JoaoGomes/Dropbox/Xcelerated/assessment/data/avro-issues.csv')"
   ]
  },
  {
   "cell_type": "code",
   "execution_count": 5,
   "metadata": {
    "slideshow": {
     "slide_type": "subslide"
    }
   },
   "outputs": [
    {
     "data": {
      "text/html": [
       "<div>\n",
       "<style scoped>\n",
       "    .dataframe tbody tr th:only-of-type {\n",
       "        vertical-align: middle;\n",
       "    }\n",
       "\n",
       "    .dataframe tbody tr th {\n",
       "        vertical-align: top;\n",
       "    }\n",
       "\n",
       "    .dataframe thead th {\n",
       "        text-align: right;\n",
       "    }\n",
       "</style>\n",
       "<table border=\"1\" class=\"dataframe\">\n",
       "  <thead>\n",
       "    <tr style=\"text-align: right;\">\n",
       "      <th></th>\n",
       "      <th>status</th>\n",
       "      <th>priority</th>\n",
       "      <th>updated</th>\n",
       "      <th>issue_type</th>\n",
       "      <th>reporter</th>\n",
       "      <th>created</th>\n",
       "      <th>resolutiondate</th>\n",
       "      <th>vote_count</th>\n",
       "      <th>project</th>\n",
       "      <th>assignee</th>\n",
       "      <th>comment_count</th>\n",
       "      <th>key</th>\n",
       "      <th>description_length</th>\n",
       "      <th>summary_length</th>\n",
       "      <th>watch_count</th>\n",
       "      <th>resolution</th>\n",
       "      <th>days_in_current_status</th>\n",
       "    </tr>\n",
       "  </thead>\n",
       "  <tbody>\n",
       "    <tr>\n",
       "      <th>0</th>\n",
       "      <td>In Progress</td>\n",
       "      <td>Major</td>\n",
       "      <td>2018-04-21T15:44:36.749+0000</td>\n",
       "      <td>Improvement</td>\n",
       "      <td>rlenferink</td>\n",
       "      <td>2018-04-17T21:53:05.730+0000</td>\n",
       "      <td>NaN</td>\n",
       "      <td>0</td>\n",
       "      <td>AVRO</td>\n",
       "      <td>rlenferink</td>\n",
       "      <td>1</td>\n",
       "      <td>AVRO-2171</td>\n",
       "      <td>233.0</td>\n",
       "      <td>43</td>\n",
       "      <td>1</td>\n",
       "      <td>NaN</td>\n",
       "      <td>4.643599</td>\n",
       "    </tr>\n",
       "    <tr>\n",
       "      <th>1</th>\n",
       "      <td>In Progress</td>\n",
       "      <td>Minor</td>\n",
       "      <td>2018-04-21T15:42:40.935+0000</td>\n",
       "      <td>Improvement</td>\n",
       "      <td>rlenferink</td>\n",
       "      <td>2018-04-17T21:47:11.197+0000</td>\n",
       "      <td>NaN</td>\n",
       "      <td>0</td>\n",
       "      <td>AVRO</td>\n",
       "      <td>rlenferink</td>\n",
       "      <td>1</td>\n",
       "      <td>AVRO-2170</td>\n",
       "      <td>528.0</td>\n",
       "      <td>68</td>\n",
       "      <td>2</td>\n",
       "      <td>NaN</td>\n",
       "      <td>4.644939</td>\n",
       "    </tr>\n",
       "    <tr>\n",
       "      <th>2</th>\n",
       "      <td>Resolved</td>\n",
       "      <td>Major</td>\n",
       "      <td>2018-04-24T06:34:58.782+0000</td>\n",
       "      <td>Improvement</td>\n",
       "      <td>jmukesh</td>\n",
       "      <td>2018-04-06T13:45:28.721+0000</td>\n",
       "      <td>2018-04-24T06:34:58.762+0000</td>\n",
       "      <td>0</td>\n",
       "      <td>AVRO</td>\n",
       "      <td>NaN</td>\n",
       "      <td>0</td>\n",
       "      <td>AVRO-2169</td>\n",
       "      <td>1062.0</td>\n",
       "      <td>75</td>\n",
       "      <td>1</td>\n",
       "      <td>Not A Bug</td>\n",
       "      <td>2.025288</td>\n",
       "    </tr>\n",
       "    <tr>\n",
       "      <th>3</th>\n",
       "      <td>Resolved</td>\n",
       "      <td>Major</td>\n",
       "      <td>2018-04-24T06:34:37.360+0000</td>\n",
       "      <td>Bug</td>\n",
       "      <td>jmukesh</td>\n",
       "      <td>2018-04-05T13:21:01.183+0000</td>\n",
       "      <td>2018-04-24T06:34:37.339+0000</td>\n",
       "      <td>0</td>\n",
       "      <td>AVRO</td>\n",
       "      <td>NaN</td>\n",
       "      <td>1</td>\n",
       "      <td>AVRO-2168</td>\n",
       "      <td>272.0</td>\n",
       "      <td>64</td>\n",
       "      <td>1</td>\n",
       "      <td>Not A Bug</td>\n",
       "      <td>2.025536</td>\n",
       "    </tr>\n",
       "    <tr>\n",
       "      <th>4</th>\n",
       "      <td>Resolved</td>\n",
       "      <td>Major</td>\n",
       "      <td>2018-04-24T06:34:15.849+0000</td>\n",
       "      <td>Bug</td>\n",
       "      <td>jmukesh</td>\n",
       "      <td>2018-04-04T16:39:43.364+0000</td>\n",
       "      <td>2018-04-24T06:34:15.829+0000</td>\n",
       "      <td>0</td>\n",
       "      <td>AVRO</td>\n",
       "      <td>NaN</td>\n",
       "      <td>0</td>\n",
       "      <td>AVRO-2167</td>\n",
       "      <td>674.0</td>\n",
       "      <td>53</td>\n",
       "      <td>1</td>\n",
       "      <td>Not A Bug</td>\n",
       "      <td>2.025785</td>\n",
       "    </tr>\n",
       "  </tbody>\n",
       "</table>\n",
       "</div>"
      ],
      "text/plain": [
       "        status priority                       updated   issue_type  \\\n",
       "0  In Progress    Major  2018-04-21T15:44:36.749+0000  Improvement   \n",
       "1  In Progress    Minor  2018-04-21T15:42:40.935+0000  Improvement   \n",
       "2     Resolved    Major  2018-04-24T06:34:58.782+0000  Improvement   \n",
       "3     Resolved    Major  2018-04-24T06:34:37.360+0000          Bug   \n",
       "4     Resolved    Major  2018-04-24T06:34:15.849+0000          Bug   \n",
       "\n",
       "     reporter                       created                resolutiondate  \\\n",
       "0  rlenferink  2018-04-17T21:53:05.730+0000                           NaN   \n",
       "1  rlenferink  2018-04-17T21:47:11.197+0000                           NaN   \n",
       "2     jmukesh  2018-04-06T13:45:28.721+0000  2018-04-24T06:34:58.762+0000   \n",
       "3     jmukesh  2018-04-05T13:21:01.183+0000  2018-04-24T06:34:37.339+0000   \n",
       "4     jmukesh  2018-04-04T16:39:43.364+0000  2018-04-24T06:34:15.829+0000   \n",
       "\n",
       "   vote_count project    assignee  comment_count        key  \\\n",
       "0           0    AVRO  rlenferink              1  AVRO-2171   \n",
       "1           0    AVRO  rlenferink              1  AVRO-2170   \n",
       "2           0    AVRO         NaN              0  AVRO-2169   \n",
       "3           0    AVRO         NaN              1  AVRO-2168   \n",
       "4           0    AVRO         NaN              0  AVRO-2167   \n",
       "\n",
       "   description_length  summary_length  watch_count resolution  \\\n",
       "0               233.0              43            1        NaN   \n",
       "1               528.0              68            2        NaN   \n",
       "2              1062.0              75            1  Not A Bug   \n",
       "3               272.0              64            1  Not A Bug   \n",
       "4               674.0              53            1  Not A Bug   \n",
       "\n",
       "   days_in_current_status  \n",
       "0                4.643599  \n",
       "1                4.644939  \n",
       "2                2.025288  \n",
       "3                2.025536  \n",
       "4                2.025785  "
      ]
     },
     "execution_count": 5,
     "metadata": {},
     "output_type": "execute_result"
    }
   ],
   "source": [
    "# Loading avro-issues.csv\n",
    "\n",
    "data_issues_csv.head()"
   ]
  },
  {
   "cell_type": "code",
   "execution_count": 6,
   "metadata": {
    "slideshow": {
     "slide_type": "subslide"
    }
   },
   "outputs": [
    {
     "data": {
      "text/plain": [
       "2166"
      ]
     },
     "execution_count": 6,
     "metadata": {},
     "output_type": "execute_result"
    }
   ],
   "source": [
    "# Number of issues: we have in total\n",
    "\n",
    "len(data_issues)"
   ]
  },
  {
   "cell_type": "code",
   "execution_count": 7,
   "metadata": {},
   "outputs": [
    {
     "data": {
      "text/plain": [
       "2166"
      ]
     },
     "execution_count": 7,
     "metadata": {},
     "output_type": "execute_result"
    }
   ],
   "source": [
    "len(data_issues_csv)"
   ]
  },
  {
   "cell_type": "code",
   "execution_count": 8,
   "metadata": {
    "slideshow": {
     "slide_type": "subslide"
    }
   },
   "outputs": [],
   "source": [
    "# We also load avro-transitions.csv\n",
    "\n",
    "data_issues_transitions=pd.read_csv('/Users/JoaoGomes/Dropbox/Xcelerated/assessment/data/avro-transitions.csv')"
   ]
  },
  {
   "cell_type": "code",
   "execution_count": 9,
   "metadata": {},
   "outputs": [
    {
     "data": {
      "text/plain": [
       "6260"
      ]
     },
     "execution_count": 9,
     "metadata": {},
     "output_type": "execute_result"
    }
   ],
   "source": [
    "len(data_issues_transitions)"
   ]
  },
  {
   "cell_type": "code",
   "execution_count": 10,
   "metadata": {
    "slideshow": {
     "slide_type": "subslide"
    }
   },
   "outputs": [
    {
     "data": {
      "text/html": [
       "<div>\n",
       "<style scoped>\n",
       "    .dataframe tbody tr th:only-of-type {\n",
       "        vertical-align: middle;\n",
       "    }\n",
       "\n",
       "    .dataframe tbody tr th {\n",
       "        vertical-align: top;\n",
       "    }\n",
       "\n",
       "    .dataframe thead th {\n",
       "        text-align: right;\n",
       "    }\n",
       "</style>\n",
       "<table border=\"1\" class=\"dataframe\">\n",
       "  <thead>\n",
       "    <tr style=\"text-align: right;\">\n",
       "      <th></th>\n",
       "      <th>status</th>\n",
       "      <th>updated</th>\n",
       "      <th>from_status</th>\n",
       "      <th>reporter</th>\n",
       "      <th>when</th>\n",
       "      <th>days_in_from_status</th>\n",
       "      <th>who</th>\n",
       "      <th>to_status</th>\n",
       "      <th>assignee</th>\n",
       "      <th>key</th>\n",
       "      <th>...</th>\n",
       "      <th>project</th>\n",
       "      <th>created</th>\n",
       "      <th>transition</th>\n",
       "      <th>resolutiondate</th>\n",
       "      <th>comment_count</th>\n",
       "      <th>priority</th>\n",
       "      <th>vote_count</th>\n",
       "      <th>issue_type</th>\n",
       "      <th>watch_count</th>\n",
       "      <th>resolution</th>\n",
       "    </tr>\n",
       "  </thead>\n",
       "  <tbody>\n",
       "    <tr>\n",
       "      <th>0</th>\n",
       "      <td>In Progress</td>\n",
       "      <td>2018-04-21T15:44:36.749+0000</td>\n",
       "      <td>NaN</td>\n",
       "      <td>rlenferink</td>\n",
       "      <td>2018-04-17T21:53:05.730+0000</td>\n",
       "      <td>NaN</td>\n",
       "      <td>rlenferink</td>\n",
       "      <td>Open</td>\n",
       "      <td>rlenferink</td>\n",
       "      <td>AVRO-2171</td>\n",
       "      <td>...</td>\n",
       "      <td>AVRO</td>\n",
       "      <td>2018-04-17T21:53:05.730+0000</td>\n",
       "      <td>Non-existent to Open</td>\n",
       "      <td>NaN</td>\n",
       "      <td>1</td>\n",
       "      <td>Major</td>\n",
       "      <td>0</td>\n",
       "      <td>Improvement</td>\n",
       "      <td>1</td>\n",
       "      <td>NaN</td>\n",
       "    </tr>\n",
       "    <tr>\n",
       "      <th>1</th>\n",
       "      <td>In Progress</td>\n",
       "      <td>2018-04-21T15:44:36.749+0000</td>\n",
       "      <td>Open</td>\n",
       "      <td>rlenferink</td>\n",
       "      <td>2018-04-18T01:33:49.088+0000</td>\n",
       "      <td>0.153280</td>\n",
       "      <td>busbey</td>\n",
       "      <td>Patch Available</td>\n",
       "      <td>rlenferink</td>\n",
       "      <td>AVRO-2171</td>\n",
       "      <td>...</td>\n",
       "      <td>AVRO</td>\n",
       "      <td>2018-04-17T21:53:05.730+0000</td>\n",
       "      <td>Open to Patch Available</td>\n",
       "      <td>NaN</td>\n",
       "      <td>1</td>\n",
       "      <td>Major</td>\n",
       "      <td>0</td>\n",
       "      <td>Improvement</td>\n",
       "      <td>1</td>\n",
       "      <td>NaN</td>\n",
       "    </tr>\n",
       "    <tr>\n",
       "      <th>2</th>\n",
       "      <td>In Progress</td>\n",
       "      <td>2018-04-21T15:44:36.749+0000</td>\n",
       "      <td>Patch Available</td>\n",
       "      <td>rlenferink</td>\n",
       "      <td>2018-04-21T15:44:36.753+0000</td>\n",
       "      <td>3.590829</td>\n",
       "      <td>busbey</td>\n",
       "      <td>In Progress</td>\n",
       "      <td>rlenferink</td>\n",
       "      <td>AVRO-2171</td>\n",
       "      <td>...</td>\n",
       "      <td>AVRO</td>\n",
       "      <td>2018-04-17T21:53:05.730+0000</td>\n",
       "      <td>Patch Available to In Progress</td>\n",
       "      <td>NaN</td>\n",
       "      <td>1</td>\n",
       "      <td>Major</td>\n",
       "      <td>0</td>\n",
       "      <td>Improvement</td>\n",
       "      <td>1</td>\n",
       "      <td>NaN</td>\n",
       "    </tr>\n",
       "    <tr>\n",
       "      <th>3</th>\n",
       "      <td>In Progress</td>\n",
       "      <td>2018-04-21T15:42:40.935+0000</td>\n",
       "      <td>NaN</td>\n",
       "      <td>rlenferink</td>\n",
       "      <td>2018-04-17T21:47:11.197+0000</td>\n",
       "      <td>NaN</td>\n",
       "      <td>rlenferink</td>\n",
       "      <td>Open</td>\n",
       "      <td>rlenferink</td>\n",
       "      <td>AVRO-2170</td>\n",
       "      <td>...</td>\n",
       "      <td>AVRO</td>\n",
       "      <td>2018-04-17T21:47:11.197+0000</td>\n",
       "      <td>Non-existent to Open</td>\n",
       "      <td>NaN</td>\n",
       "      <td>1</td>\n",
       "      <td>Minor</td>\n",
       "      <td>0</td>\n",
       "      <td>Improvement</td>\n",
       "      <td>2</td>\n",
       "      <td>NaN</td>\n",
       "    </tr>\n",
       "    <tr>\n",
       "      <th>4</th>\n",
       "      <td>In Progress</td>\n",
       "      <td>2018-04-21T15:42:40.935+0000</td>\n",
       "      <td>Open</td>\n",
       "      <td>rlenferink</td>\n",
       "      <td>2018-04-18T01:33:19.205+0000</td>\n",
       "      <td>0.157037</td>\n",
       "      <td>busbey</td>\n",
       "      <td>Patch Available</td>\n",
       "      <td>rlenferink</td>\n",
       "      <td>AVRO-2170</td>\n",
       "      <td>...</td>\n",
       "      <td>AVRO</td>\n",
       "      <td>2018-04-17T21:47:11.197+0000</td>\n",
       "      <td>Open to Patch Available</td>\n",
       "      <td>NaN</td>\n",
       "      <td>1</td>\n",
       "      <td>Minor</td>\n",
       "      <td>0</td>\n",
       "      <td>Improvement</td>\n",
       "      <td>2</td>\n",
       "      <td>NaN</td>\n",
       "    </tr>\n",
       "  </tbody>\n",
       "</table>\n",
       "<p>5 rows × 24 columns</p>\n",
       "</div>"
      ],
      "text/plain": [
       "        status                       updated      from_status    reporter  \\\n",
       "0  In Progress  2018-04-21T15:44:36.749+0000              NaN  rlenferink   \n",
       "1  In Progress  2018-04-21T15:44:36.749+0000             Open  rlenferink   \n",
       "2  In Progress  2018-04-21T15:44:36.749+0000  Patch Available  rlenferink   \n",
       "3  In Progress  2018-04-21T15:42:40.935+0000              NaN  rlenferink   \n",
       "4  In Progress  2018-04-21T15:42:40.935+0000             Open  rlenferink   \n",
       "\n",
       "                           when  days_in_from_status         who  \\\n",
       "0  2018-04-17T21:53:05.730+0000                  NaN  rlenferink   \n",
       "1  2018-04-18T01:33:49.088+0000             0.153280      busbey   \n",
       "2  2018-04-21T15:44:36.753+0000             3.590829      busbey   \n",
       "3  2018-04-17T21:47:11.197+0000                  NaN  rlenferink   \n",
       "4  2018-04-18T01:33:19.205+0000             0.157037      busbey   \n",
       "\n",
       "         to_status    assignee        key    ...      project  \\\n",
       "0             Open  rlenferink  AVRO-2171    ...         AVRO   \n",
       "1  Patch Available  rlenferink  AVRO-2171    ...         AVRO   \n",
       "2      In Progress  rlenferink  AVRO-2171    ...         AVRO   \n",
       "3             Open  rlenferink  AVRO-2170    ...         AVRO   \n",
       "4  Patch Available  rlenferink  AVRO-2170    ...         AVRO   \n",
       "\n",
       "                        created                      transition  \\\n",
       "0  2018-04-17T21:53:05.730+0000            Non-existent to Open   \n",
       "1  2018-04-17T21:53:05.730+0000         Open to Patch Available   \n",
       "2  2018-04-17T21:53:05.730+0000  Patch Available to In Progress   \n",
       "3  2018-04-17T21:47:11.197+0000            Non-existent to Open   \n",
       "4  2018-04-17T21:47:11.197+0000         Open to Patch Available   \n",
       "\n",
       "   resolutiondate comment_count priority vote_count   issue_type  watch_count  \\\n",
       "0             NaN             1    Major          0  Improvement            1   \n",
       "1             NaN             1    Major          0  Improvement            1   \n",
       "2             NaN             1    Major          0  Improvement            1   \n",
       "3             NaN             1    Minor          0  Improvement            2   \n",
       "4             NaN             1    Minor          0  Improvement            2   \n",
       "\n",
       "  resolution  \n",
       "0        NaN  \n",
       "1        NaN  \n",
       "2        NaN  \n",
       "3        NaN  \n",
       "4        NaN  \n",
       "\n",
       "[5 rows x 24 columns]"
      ]
     },
     "execution_count": 10,
     "metadata": {},
     "output_type": "execute_result"
    }
   ],
   "source": [
    "data_issues_transitions.head()"
   ]
  },
  {
   "cell_type": "markdown",
   "metadata": {
    "slideshow": {
     "slide_type": "skip"
    }
   },
   "source": [
    "The 'changelog' field of 'data_issues (json)' contains important information about updates, authors and \n",
    "change of status. In other words, it contains the history of a particular issue. Here is an example:\n"
   ]
  },
  {
   "cell_type": "code",
   "execution_count": 11,
   "metadata": {
    "slideshow": {
     "slide_type": "skip"
    }
   },
   "outputs": [
    {
     "data": {
      "text/plain": [
       "{'histories': [{'author': {'active': True,\n",
       "    'avatarUrls': {'16x16': 'https://issues.apache.org/jira/secure/useravatar?size=xsmall&avatarId=10452',\n",
       "     '24x24': 'https://issues.apache.org/jira/secure/useravatar?size=small&avatarId=10452',\n",
       "     '32x32': 'https://issues.apache.org/jira/secure/useravatar?size=medium&avatarId=10452',\n",
       "     '48x48': 'https://issues.apache.org/jira/secure/useravatar?avatarId=10452'},\n",
       "    'displayName': 'Roy Lenferink',\n",
       "    'emailAddress': 'lenferinkroy at gmail dot com',\n",
       "    'key': 'rlenferink',\n",
       "    'name': 'rlenferink',\n",
       "    'self': 'https://issues.apache.org/jira/rest/api/2/user?username=rlenferink',\n",
       "    'timeZone': 'Europe/Amsterdam'},\n",
       "   'created': '2018-04-17T21:55:48.755+0000',\n",
       "   'id': '16768043',\n",
       "   'items': [{'field': 'Attachment',\n",
       "     'fieldtype': 'jira',\n",
       "     'from': None,\n",
       "     'fromString': None,\n",
       "     'to': '12919489',\n",
       "     'toString': 'AVRO-2171.patch'}]},\n",
       "  {'author': {'active': True,\n",
       "    'avatarUrls': {'16x16': 'https://issues.apache.org/jira/secure/useravatar?size=xsmall&ownerId=busbey&avatarId=13233',\n",
       "     '24x24': 'https://issues.apache.org/jira/secure/useravatar?size=small&ownerId=busbey&avatarId=13233',\n",
       "     '32x32': 'https://issues.apache.org/jira/secure/useravatar?size=medium&ownerId=busbey&avatarId=13233',\n",
       "     '48x48': 'https://issues.apache.org/jira/secure/useravatar?ownerId=busbey&avatarId=13233'},\n",
       "    'displayName': 'Sean Busbey',\n",
       "    'emailAddress': 'busbey at cloudera dot com',\n",
       "    'key': 'busbey',\n",
       "    'name': 'busbey',\n",
       "    'self': 'https://issues.apache.org/jira/rest/api/2/user?username=busbey',\n",
       "    'timeZone': 'America/Chicago'},\n",
       "   'created': '2018-04-18T01:33:44.401+0000',\n",
       "   'id': '16768383',\n",
       "   'items': [{'field': 'assignee',\n",
       "     'fieldtype': 'jira',\n",
       "     'from': None,\n",
       "     'fromString': None,\n",
       "     'to': 'rlenferink',\n",
       "     'toString': 'Roy Lenferink'}]},\n",
       "  {'author': {'active': True,\n",
       "    'avatarUrls': {'16x16': 'https://issues.apache.org/jira/secure/useravatar?size=xsmall&ownerId=busbey&avatarId=13233',\n",
       "     '24x24': 'https://issues.apache.org/jira/secure/useravatar?size=small&ownerId=busbey&avatarId=13233',\n",
       "     '32x32': 'https://issues.apache.org/jira/secure/useravatar?size=medium&ownerId=busbey&avatarId=13233',\n",
       "     '48x48': 'https://issues.apache.org/jira/secure/useravatar?ownerId=busbey&avatarId=13233'},\n",
       "    'displayName': 'Sean Busbey',\n",
       "    'emailAddress': 'busbey at cloudera dot com',\n",
       "    'key': 'busbey',\n",
       "    'name': 'busbey',\n",
       "    'self': 'https://issues.apache.org/jira/rest/api/2/user?username=busbey',\n",
       "    'timeZone': 'America/Chicago'},\n",
       "   'created': '2018-04-18T01:33:49.088+0000',\n",
       "   'id': '16768384',\n",
       "   'items': [{'field': 'status',\n",
       "     'fieldtype': 'jira',\n",
       "     'from': '1',\n",
       "     'fromString': 'Open',\n",
       "     'to': '10002',\n",
       "     'toString': 'Patch Available'}]},\n",
       "  {'author': {'active': True,\n",
       "    'avatarUrls': {'16x16': 'https://issues.apache.org/jira/secure/useravatar?size=xsmall&ownerId=busbey&avatarId=13233',\n",
       "     '24x24': 'https://issues.apache.org/jira/secure/useravatar?size=small&ownerId=busbey&avatarId=13233',\n",
       "     '32x32': 'https://issues.apache.org/jira/secure/useravatar?size=medium&ownerId=busbey&avatarId=13233',\n",
       "     '48x48': 'https://issues.apache.org/jira/secure/useravatar?ownerId=busbey&avatarId=13233'},\n",
       "    'displayName': 'Sean Busbey',\n",
       "    'emailAddress': 'busbey at cloudera dot com',\n",
       "    'key': 'busbey',\n",
       "    'name': 'busbey',\n",
       "    'self': 'https://issues.apache.org/jira/rest/api/2/user?username=busbey',\n",
       "    'timeZone': 'America/Chicago'},\n",
       "   'created': '2018-04-18T01:33:54.022+0000',\n",
       "   'id': '16768385',\n",
       "   'items': [{'field': 'Component',\n",
       "     'fieldtype': 'jira',\n",
       "     'from': None,\n",
       "     'fromString': None,\n",
       "     'to': '12330815',\n",
       "     'toString': 'community'}]},\n",
       "  {'author': {'active': True,\n",
       "    'avatarUrls': {'16x16': 'https://issues.apache.org/jira/secure/useravatar?size=xsmall&ownerId=busbey&avatarId=13233',\n",
       "     '24x24': 'https://issues.apache.org/jira/secure/useravatar?size=small&ownerId=busbey&avatarId=13233',\n",
       "     '32x32': 'https://issues.apache.org/jira/secure/useravatar?size=medium&ownerId=busbey&avatarId=13233',\n",
       "     '48x48': 'https://issues.apache.org/jira/secure/useravatar?ownerId=busbey&avatarId=13233'},\n",
       "    'displayName': 'Sean Busbey',\n",
       "    'emailAddress': 'busbey at cloudera dot com',\n",
       "    'key': 'busbey',\n",
       "    'name': 'busbey',\n",
       "    'self': 'https://issues.apache.org/jira/rest/api/2/user?username=busbey',\n",
       "    'timeZone': 'America/Chicago'},\n",
       "   'created': '2018-04-21T15:44:36.753+0000',\n",
       "   'id': '16778743',\n",
       "   'items': [{'field': 'status',\n",
       "     'fieldtype': 'jira',\n",
       "     'from': '10002',\n",
       "     'fromString': 'Patch Available',\n",
       "     'to': '3',\n",
       "     'toString': 'In Progress'}]}],\n",
       " 'maxResults': 5,\n",
       " 'startAt': 0,\n",
       " 'total': 5}"
      ]
     },
     "execution_count": 11,
     "metadata": {},
     "output_type": "execute_result"
    }
   ],
   "source": [
    "data_issues['changelog'][0]"
   ]
  },
  {
   "cell_type": "code",
   "execution_count": 12,
   "metadata": {
    "slideshow": {
     "slide_type": "skip"
    }
   },
   "outputs": [
    {
     "data": {
      "text/plain": [
       "5"
      ]
     },
     "execution_count": 12,
     "metadata": {},
     "output_type": "execute_result"
    }
   ],
   "source": [
    "data_issues['changelog'][0]['total']"
   ]
  },
  {
   "cell_type": "markdown",
   "metadata": {
    "slideshow": {
     "slide_type": "skip"
    }
   },
   "source": [
    "There is a total of 5 updates or \"interventions\" but the issue is not resolved as the last reported status \n",
    "is \"In progress\"."
   ]
  },
  {
   "cell_type": "markdown",
   "metadata": {
    "slideshow": {
     "slide_type": "slide"
    }
   },
   "source": [
    "# Feature Engineering "
   ]
  },
  {
   "cell_type": "markdown",
   "metadata": {
    "slideshow": {
     "slide_type": "subslide"
    }
   },
   "source": [
    "# Hypothesis: similar histories ~ similar outcomes\n",
    "\n",
    "Suppose we have an issue, call it A, not in the DATA and we want to predict when it will be resolved. The intuitive idea is to find the issues in the DATA that are most similar to A and then extrapolate (like an average) the future outcome of A. \n",
    "\n",
    "So we need to understand what it means to be similar and which features are determining that. I will not create a model that determines how two issues are similar but I will let the machine learning algorithm find that by itself. For this purpose I will use a RandomForestRegression algorithm and let it determine by itself the most relevant features. I will also compare with other algorithms.\n"
   ]
  },
  {
   "cell_type": "markdown",
   "metadata": {
    "slideshow": {
     "slide_type": "subslide"
    }
   },
   "source": [
    "* STEP 1: collect features for the DATA such as:\n",
    "\n",
    "\n",
    "    - lifetime (from creation to last status!=Resolved) \n",
    "    - Priority: Major/Minor/Trivial...,\n",
    "    - issue_type: Bug, Task...,\n",
    "    - number_votes,\n",
    "    - number_counts,\n",
    "    - number of comments\n",
    "    - how many different authors,\n",
    "    - most frequent author\n",
    "    - number_interventions (that is, size of histories list),\n",
    "    - history of status change. Ex: 'In progress', 'Patch Available', In Progress'\n",
    "    - Time evolution. Ex: '2018-01-01:TIME', '2018-02-02:TIME', '2018-03-03:TIME',... ?\n",
    "    \n",
    " * STEP 2: Apply Algorithm \n",
    " \n",
    " \n",
    "     - RandomForest\n",
    "     - k-NN\n",
    "     - Lasso\n",
    "     - Gradient Boosting Regression"
   ]
  },
  {
   "cell_type": "markdown",
   "metadata": {
    "slideshow": {
     "slide_type": "subslide"
    }
   },
   "source": [
    "# Lets determine Lifetime of the issues \n",
    "\n",
    "### Lifetime = date_last_status (not Resolved) - date_created"
   ]
  },
  {
   "cell_type": "code",
   "execution_count": 13,
   "metadata": {
    "slideshow": {
     "slide_type": "skip"
    }
   },
   "outputs": [],
   "source": [
    "from dateutil.parser import parse\n",
    "from datetime import timedelta"
   ]
  },
  {
   "cell_type": "markdown",
   "metadata": {
    "slideshow": {
     "slide_type": "subslide"
    }
   },
   "source": [
    "# NOTE:\n",
    "\n",
    "### There can be issues with multiple 'Resolved' status:\n",
    "#### Open-> In Progress -> Resolved -> Reopened -> Resolved -> Reopened ->...\n",
    "\n",
    "#### Extract multiple events:\n",
    "\n",
    "* Open-> In Progress -> Resolved\n",
    "* Open-> In Progress -> Resolved -> Reopened -> Resolved\n",
    "* Open-> In Progress -> Resolved -> Reopened -> Resolved -> Reopened ->..."
   ]
  },
  {
   "cell_type": "code",
   "execution_count": 14,
   "metadata": {
    "slideshow": {
     "slide_type": "subslide"
    }
   },
   "outputs": [],
   "source": [
    "t_open_resol=[]\n",
    "l_trans=len(data_issues_transitions)\n",
    "\n",
    "# go through rows and determine when an issue has status= Resolved\n",
    "# Then go backwards and find when it was created\n",
    "# This way we can keep track of issues which have multiple Resolved statuses\n",
    "\n",
    "for i in range(0,l_trans):\n",
    "    if data_issues_transitions['to_status'][i]=='Resolved':\n",
    "        j=i\n",
    "        while data_issues_transitions['to_status'][j]!='Open':\n",
    "            j-=1\n",
    "        t_open_resol.append({'index':[j,i],'key': data_issues_transitions['key'][i],\n",
    "                             'type': data_issues_transitions['issue_type'][i]\n",
    "                      ,'whenOpen': data_issues_transitions['created'][j],\n",
    "                             'whenResol':data_issues_transitions['when'][i],# Note that sometimes the issue is Reopened and the Resolution date=NaN\n",
    "                            'last_stat_notResol':data_issues_transitions['when'][i-1]})"
   ]
  },
  {
   "cell_type": "code",
   "execution_count": 15,
   "metadata": {
    "slideshow": {
     "slide_type": "-"
    }
   },
   "outputs": [
    {
     "data": {
      "text/plain": [
       "{'index': [212, 218],\n",
       " 'key': 'AVRO-2049',\n",
       " 'last_stat_notResol': '2017-07-26T15:38:29.254+0000',\n",
       " 'type': 'Improvement',\n",
       " 'whenOpen': '2017-07-17T01:05:58.080+0000',\n",
       " 'whenResol': '2017-07-28T07:18:43.306+0000'}"
      ]
     },
     "execution_count": 15,
     "metadata": {},
     "output_type": "execute_result"
    }
   ],
   "source": [
    "# An example\n",
    "\n",
    "t_open_resol[45]"
   ]
  },
  {
   "cell_type": "code",
   "execution_count": 16,
   "metadata": {
    "slideshow": {
     "slide_type": "subslide"
    }
   },
   "outputs": [
    {
     "data": {
      "text/html": [
       "<div>\n",
       "<style scoped>\n",
       "    .dataframe tbody tr th:only-of-type {\n",
       "        vertical-align: middle;\n",
       "    }\n",
       "\n",
       "    .dataframe tbody tr th {\n",
       "        vertical-align: top;\n",
       "    }\n",
       "\n",
       "    .dataframe thead th {\n",
       "        text-align: right;\n",
       "    }\n",
       "</style>\n",
       "<table border=\"1\" class=\"dataframe\">\n",
       "  <thead>\n",
       "    <tr style=\"text-align: right;\">\n",
       "      <th></th>\n",
       "      <th>status</th>\n",
       "      <th>updated</th>\n",
       "      <th>from_status</th>\n",
       "      <th>reporter</th>\n",
       "      <th>when</th>\n",
       "      <th>days_in_from_status</th>\n",
       "      <th>who</th>\n",
       "      <th>to_status</th>\n",
       "      <th>assignee</th>\n",
       "      <th>key</th>\n",
       "      <th>...</th>\n",
       "      <th>project</th>\n",
       "      <th>created</th>\n",
       "      <th>transition</th>\n",
       "      <th>resolutiondate</th>\n",
       "      <th>comment_count</th>\n",
       "      <th>priority</th>\n",
       "      <th>vote_count</th>\n",
       "      <th>issue_type</th>\n",
       "      <th>watch_count</th>\n",
       "      <th>resolution</th>\n",
       "    </tr>\n",
       "  </thead>\n",
       "  <tbody>\n",
       "    <tr>\n",
       "      <th>212</th>\n",
       "      <td>Resolved</td>\n",
       "      <td>2017-07-28T07:18:43.296+0000</td>\n",
       "      <td>NaN</td>\n",
       "      <td>belugabehr</td>\n",
       "      <td>2017-07-17T01:05:58.080+0000</td>\n",
       "      <td>NaN</td>\n",
       "      <td>belugabehr</td>\n",
       "      <td>Open</td>\n",
       "      <td>belugabehr</td>\n",
       "      <td>AVRO-2049</td>\n",
       "      <td>...</td>\n",
       "      <td>AVRO</td>\n",
       "      <td>2017-07-17T01:05:58.080+0000</td>\n",
       "      <td>Non-existent to Open</td>\n",
       "      <td>2017-07-28T07:18:43.249+0000</td>\n",
       "      <td>9</td>\n",
       "      <td>Trivial</td>\n",
       "      <td>0</td>\n",
       "      <td>Improvement</td>\n",
       "      <td>4</td>\n",
       "      <td>Fixed</td>\n",
       "    </tr>\n",
       "    <tr>\n",
       "      <th>213</th>\n",
       "      <td>Resolved</td>\n",
       "      <td>2017-07-28T07:18:43.296+0000</td>\n",
       "      <td>Open</td>\n",
       "      <td>belugabehr</td>\n",
       "      <td>2017-07-17T01:06:30.463+0000</td>\n",
       "      <td>0.000375</td>\n",
       "      <td>belugabehr</td>\n",
       "      <td>Patch Available</td>\n",
       "      <td>belugabehr</td>\n",
       "      <td>AVRO-2049</td>\n",
       "      <td>...</td>\n",
       "      <td>AVRO</td>\n",
       "      <td>2017-07-17T01:05:58.080+0000</td>\n",
       "      <td>Open to Patch Available</td>\n",
       "      <td>2017-07-28T07:18:43.249+0000</td>\n",
       "      <td>9</td>\n",
       "      <td>Trivial</td>\n",
       "      <td>0</td>\n",
       "      <td>Improvement</td>\n",
       "      <td>4</td>\n",
       "      <td>Fixed</td>\n",
       "    </tr>\n",
       "    <tr>\n",
       "      <th>214</th>\n",
       "      <td>Resolved</td>\n",
       "      <td>2017-07-28T07:18:43.296+0000</td>\n",
       "      <td>Patch Available</td>\n",
       "      <td>belugabehr</td>\n",
       "      <td>2017-07-26T15:24:37.196+0000</td>\n",
       "      <td>9.595911</td>\n",
       "      <td>belugabehr</td>\n",
       "      <td>In Progress</td>\n",
       "      <td>belugabehr</td>\n",
       "      <td>AVRO-2049</td>\n",
       "      <td>...</td>\n",
       "      <td>AVRO</td>\n",
       "      <td>2017-07-17T01:05:58.080+0000</td>\n",
       "      <td>Patch Available to In Progress</td>\n",
       "      <td>2017-07-28T07:18:43.249+0000</td>\n",
       "      <td>9</td>\n",
       "      <td>Trivial</td>\n",
       "      <td>0</td>\n",
       "      <td>Improvement</td>\n",
       "      <td>4</td>\n",
       "      <td>Fixed</td>\n",
       "    </tr>\n",
       "    <tr>\n",
       "      <th>215</th>\n",
       "      <td>Resolved</td>\n",
       "      <td>2017-07-28T07:18:43.296+0000</td>\n",
       "      <td>In Progress</td>\n",
       "      <td>belugabehr</td>\n",
       "      <td>2017-07-26T15:37:13.582+0000</td>\n",
       "      <td>0.008754</td>\n",
       "      <td>belugabehr</td>\n",
       "      <td>Patch Available</td>\n",
       "      <td>belugabehr</td>\n",
       "      <td>AVRO-2049</td>\n",
       "      <td>...</td>\n",
       "      <td>AVRO</td>\n",
       "      <td>2017-07-17T01:05:58.080+0000</td>\n",
       "      <td>In Progress to Patch Available</td>\n",
       "      <td>2017-07-28T07:18:43.249+0000</td>\n",
       "      <td>9</td>\n",
       "      <td>Trivial</td>\n",
       "      <td>0</td>\n",
       "      <td>Improvement</td>\n",
       "      <td>4</td>\n",
       "      <td>Fixed</td>\n",
       "    </tr>\n",
       "    <tr>\n",
       "      <th>216</th>\n",
       "      <td>Resolved</td>\n",
       "      <td>2017-07-28T07:18:43.296+0000</td>\n",
       "      <td>Patch Available</td>\n",
       "      <td>belugabehr</td>\n",
       "      <td>2017-07-26T15:37:54.045+0000</td>\n",
       "      <td>0.000468</td>\n",
       "      <td>belugabehr</td>\n",
       "      <td>In Progress</td>\n",
       "      <td>belugabehr</td>\n",
       "      <td>AVRO-2049</td>\n",
       "      <td>...</td>\n",
       "      <td>AVRO</td>\n",
       "      <td>2017-07-17T01:05:58.080+0000</td>\n",
       "      <td>Patch Available to In Progress</td>\n",
       "      <td>2017-07-28T07:18:43.249+0000</td>\n",
       "      <td>9</td>\n",
       "      <td>Trivial</td>\n",
       "      <td>0</td>\n",
       "      <td>Improvement</td>\n",
       "      <td>4</td>\n",
       "      <td>Fixed</td>\n",
       "    </tr>\n",
       "    <tr>\n",
       "      <th>217</th>\n",
       "      <td>Resolved</td>\n",
       "      <td>2017-07-28T07:18:43.296+0000</td>\n",
       "      <td>In Progress</td>\n",
       "      <td>belugabehr</td>\n",
       "      <td>2017-07-26T15:38:29.254+0000</td>\n",
       "      <td>0.000408</td>\n",
       "      <td>belugabehr</td>\n",
       "      <td>Patch Available</td>\n",
       "      <td>belugabehr</td>\n",
       "      <td>AVRO-2049</td>\n",
       "      <td>...</td>\n",
       "      <td>AVRO</td>\n",
       "      <td>2017-07-17T01:05:58.080+0000</td>\n",
       "      <td>In Progress to Patch Available</td>\n",
       "      <td>2017-07-28T07:18:43.249+0000</td>\n",
       "      <td>9</td>\n",
       "      <td>Trivial</td>\n",
       "      <td>0</td>\n",
       "      <td>Improvement</td>\n",
       "      <td>4</td>\n",
       "      <td>Fixed</td>\n",
       "    </tr>\n",
       "    <tr>\n",
       "      <th>218</th>\n",
       "      <td>Resolved</td>\n",
       "      <td>2017-07-28T07:18:43.296+0000</td>\n",
       "      <td>Patch Available</td>\n",
       "      <td>belugabehr</td>\n",
       "      <td>2017-07-28T07:18:43.306+0000</td>\n",
       "      <td>1.652940</td>\n",
       "      <td>gszadovszky</td>\n",
       "      <td>Resolved</td>\n",
       "      <td>belugabehr</td>\n",
       "      <td>AVRO-2049</td>\n",
       "      <td>...</td>\n",
       "      <td>AVRO</td>\n",
       "      <td>2017-07-17T01:05:58.080+0000</td>\n",
       "      <td>Patch Available to Resolved</td>\n",
       "      <td>2017-07-28T07:18:43.249+0000</td>\n",
       "      <td>9</td>\n",
       "      <td>Trivial</td>\n",
       "      <td>0</td>\n",
       "      <td>Improvement</td>\n",
       "      <td>4</td>\n",
       "      <td>Fixed</td>\n",
       "    </tr>\n",
       "  </tbody>\n",
       "</table>\n",
       "<p>7 rows × 24 columns</p>\n",
       "</div>"
      ],
      "text/plain": [
       "       status                       updated      from_status    reporter  \\\n",
       "212  Resolved  2017-07-28T07:18:43.296+0000              NaN  belugabehr   \n",
       "213  Resolved  2017-07-28T07:18:43.296+0000             Open  belugabehr   \n",
       "214  Resolved  2017-07-28T07:18:43.296+0000  Patch Available  belugabehr   \n",
       "215  Resolved  2017-07-28T07:18:43.296+0000      In Progress  belugabehr   \n",
       "216  Resolved  2017-07-28T07:18:43.296+0000  Patch Available  belugabehr   \n",
       "217  Resolved  2017-07-28T07:18:43.296+0000      In Progress  belugabehr   \n",
       "218  Resolved  2017-07-28T07:18:43.296+0000  Patch Available  belugabehr   \n",
       "\n",
       "                             when  days_in_from_status          who  \\\n",
       "212  2017-07-17T01:05:58.080+0000                  NaN   belugabehr   \n",
       "213  2017-07-17T01:06:30.463+0000             0.000375   belugabehr   \n",
       "214  2017-07-26T15:24:37.196+0000             9.595911   belugabehr   \n",
       "215  2017-07-26T15:37:13.582+0000             0.008754   belugabehr   \n",
       "216  2017-07-26T15:37:54.045+0000             0.000468   belugabehr   \n",
       "217  2017-07-26T15:38:29.254+0000             0.000408   belugabehr   \n",
       "218  2017-07-28T07:18:43.306+0000             1.652940  gszadovszky   \n",
       "\n",
       "           to_status    assignee        key    ...      project  \\\n",
       "212             Open  belugabehr  AVRO-2049    ...         AVRO   \n",
       "213  Patch Available  belugabehr  AVRO-2049    ...         AVRO   \n",
       "214      In Progress  belugabehr  AVRO-2049    ...         AVRO   \n",
       "215  Patch Available  belugabehr  AVRO-2049    ...         AVRO   \n",
       "216      In Progress  belugabehr  AVRO-2049    ...         AVRO   \n",
       "217  Patch Available  belugabehr  AVRO-2049    ...         AVRO   \n",
       "218         Resolved  belugabehr  AVRO-2049    ...         AVRO   \n",
       "\n",
       "                          created                      transition  \\\n",
       "212  2017-07-17T01:05:58.080+0000            Non-existent to Open   \n",
       "213  2017-07-17T01:05:58.080+0000         Open to Patch Available   \n",
       "214  2017-07-17T01:05:58.080+0000  Patch Available to In Progress   \n",
       "215  2017-07-17T01:05:58.080+0000  In Progress to Patch Available   \n",
       "216  2017-07-17T01:05:58.080+0000  Patch Available to In Progress   \n",
       "217  2017-07-17T01:05:58.080+0000  In Progress to Patch Available   \n",
       "218  2017-07-17T01:05:58.080+0000     Patch Available to Resolved   \n",
       "\n",
       "                   resolutiondate comment_count priority vote_count  \\\n",
       "212  2017-07-28T07:18:43.249+0000             9  Trivial          0   \n",
       "213  2017-07-28T07:18:43.249+0000             9  Trivial          0   \n",
       "214  2017-07-28T07:18:43.249+0000             9  Trivial          0   \n",
       "215  2017-07-28T07:18:43.249+0000             9  Trivial          0   \n",
       "216  2017-07-28T07:18:43.249+0000             9  Trivial          0   \n",
       "217  2017-07-28T07:18:43.249+0000             9  Trivial          0   \n",
       "218  2017-07-28T07:18:43.249+0000             9  Trivial          0   \n",
       "\n",
       "      issue_type  watch_count resolution  \n",
       "212  Improvement            4      Fixed  \n",
       "213  Improvement            4      Fixed  \n",
       "214  Improvement            4      Fixed  \n",
       "215  Improvement            4      Fixed  \n",
       "216  Improvement            4      Fixed  \n",
       "217  Improvement            4      Fixed  \n",
       "218  Improvement            4      Fixed  \n",
       "\n",
       "[7 rows x 24 columns]"
      ]
     },
     "execution_count": 16,
     "metadata": {},
     "output_type": "execute_result"
    }
   ],
   "source": [
    "# Issue with multiple changes in its status\n",
    "\n",
    "data_issues_transitions[212:219]"
   ]
  },
  {
   "cell_type": "markdown",
   "metadata": {
    "slideshow": {
     "slide_type": "skip"
    }
   },
   "source": [
    "NOTE: Status :{'Patch Available', 'In Progress', 'Resolved', 'Reopened' and 'Closed'}\n",
    "        Examples:\n",
    "            - Open->In Progress->...Resolved->Closed (only 1x Resolved)\n",
    "            - Open->...->Resolved->Reopened->...->Resolved->Reopened->...->Resolved->Closed (multiple Resolved)\n",
    "      \n",
    "      I will extract multiple histories from the issue with multiple Resolved:\n",
    "      - Open->...->Resolved(1)\n",
    "      - Open->...->Resolved(1)->...->Resolved(2)\n",
    "      - ...etc"
   ]
  },
  {
   "cell_type": "markdown",
   "metadata": {
    "slideshow": {
     "slide_type": "subslide"
    }
   },
   "source": [
    "## Dates come in ISOformat. So, to determine the Lifetime we need to convert the dates to numbers and compute the difference 'when_last_status_not_Resol' - 'whenOpen'"
   ]
  },
  {
   "cell_type": "code",
   "execution_count": 17,
   "metadata": {
    "slideshow": {
     "slide_type": "subslide"
    }
   },
   "outputs": [],
   "source": [
    "for t in t_open_resol:\n",
    "    t1=parse(t['whenOpen'])\n",
    "    t2=parse(t['last_stat_notResol'])\n",
    "    delta=t2-t1\n",
    "    t['lifetime']=delta"
   ]
  },
  {
   "cell_type": "code",
   "execution_count": 18,
   "metadata": {
    "slideshow": {
     "slide_type": "-"
    }
   },
   "outputs": [
    {
     "data": {
      "text/plain": [
       "{'index': [212, 218],\n",
       " 'key': 'AVRO-2049',\n",
       " 'last_stat_notResol': '2017-07-26T15:38:29.254+0000',\n",
       " 'lifetime': datetime.timedelta(9, 52351, 174000),\n",
       " 'type': 'Improvement',\n",
       " 'whenOpen': '2017-07-17T01:05:58.080+0000',\n",
       " 'whenResol': '2017-07-28T07:18:43.306+0000'}"
      ]
     },
     "execution_count": 18,
     "metadata": {},
     "output_type": "execute_result"
    }
   ],
   "source": [
    "t_open_resol[45]"
   ]
  },
  {
   "cell_type": "code",
   "execution_count": 19,
   "metadata": {
    "slideshow": {
     "slide_type": "-"
    }
   },
   "outputs": [],
   "source": [
    "# Write function that gives total number of days (float)\n",
    "\n",
    "def Delta_days(x):\n",
    "    seconds=x.seconds+x.microseconds/1000\n",
    "    total=x.days+seconds/(24*3600)\n",
    "    return total"
   ]
  },
  {
   "cell_type": "code",
   "execution_count": 20,
   "metadata": {
    "slideshow": {
     "slide_type": "-"
    }
   },
   "outputs": [],
   "source": [
    "for t in t_open_resol:\n",
    "    t['lifetime']=Delta_days(t['lifetime'])"
   ]
  },
  {
   "cell_type": "code",
   "execution_count": 350,
   "metadata": {
    "slideshow": {
     "slide_type": "subslide"
    }
   },
   "outputs": [
    {
     "data": {
      "text/plain": [
       "{'index': [795, 798],\n",
       " 'key': 'AVRO-1781',\n",
       " 'last_stat_notResol': '2016-01-20T03:13:39.042+0000',\n",
       " 'lifetime': 8.440914351851852,\n",
       " 'type': 'Bug',\n",
       " 'whenOpen': '2016-01-11T16:49:44.381+0000',\n",
       " 'whenResol': '2016-01-20T04:20:02.214+0000'}"
      ]
     },
     "execution_count": 350,
     "metadata": {},
     "output_type": "execute_result"
    }
   ],
   "source": [
    "t_open_resol[200]"
   ]
  },
  {
   "cell_type": "markdown",
   "metadata": {
    "slideshow": {
     "slide_type": "subslide"
    }
   },
   "source": [
    "# Type of issues in the DATA"
   ]
  },
  {
   "cell_type": "code",
   "execution_count": 22,
   "metadata": {},
   "outputs": [],
   "source": [
    "issue_types=[]\n",
    "for i in t_open_resol:\n",
    "    j1=i['index'][0]\n",
    "    j2=i['index'][1]\n",
    "    a=data_issues_transitions['issue_type'][j1]\n",
    "    b=data_issues_transitions['issue_type'][j2]\n",
    "    if a==b:\n",
    "        issue_types.append(data_issues_transitions['issue_type'][j2])\n",
    "    else:\n",
    "        print(\"something not right!\")\n",
    "issue_types_set=set(issue_types)\n"
   ]
  },
  {
   "cell_type": "code",
   "execution_count": 23,
   "metadata": {
    "slideshow": {
     "slide_type": "-"
    }
   },
   "outputs": [
    {
     "data": {
      "text/plain": [
       "{'Bug', 'Improvement', 'New Feature', 'Sub-task', 'Task', 'Test', 'Wish'}"
      ]
     },
     "execution_count": 23,
     "metadata": {},
     "output_type": "execute_result"
    }
   ],
   "source": [
    "issue_types_set"
   ]
  },
  {
   "cell_type": "code",
   "execution_count": 24,
   "metadata": {
    "slideshow": {
     "slide_type": "-"
    }
   },
   "outputs": [
    {
     "data": {
      "text/plain": [
       "['Improvement',\n",
       " 'Bug',\n",
       " 'Bug',\n",
       " 'Bug',\n",
       " 'Bug',\n",
       " 'Bug',\n",
       " 'Improvement',\n",
       " 'Bug',\n",
       " 'Improvement',\n",
       " 'Improvement']"
      ]
     },
     "execution_count": 24,
     "metadata": {},
     "output_type": "execute_result"
    }
   ],
   "source": [
    "issue_types[:10]"
   ]
  },
  {
   "cell_type": "markdown",
   "metadata": {
    "slideshow": {
     "slide_type": "subslide"
    }
   },
   "source": [
    "### Associate unique integer {0,1,2,3,4,5, 6} to every issue. I assign those integers randomly to decrease bias.\n"
   ]
  },
  {
   "cell_type": "code",
   "execution_count": 25,
   "metadata": {
    "slideshow": {
     "slide_type": "-"
    }
   },
   "outputs": [
    {
     "name": "stdout",
     "output_type": "stream",
     "text": [
      "{'Bug': 1, 'Improvement': 4, 'New Feature': 3, 'Sub-task': 6, 'Task': 0, 'Test': 2, 'Wish': 5}\n"
     ]
    }
   ],
   "source": [
    "import random\n",
    "\n",
    "c=[i for i in range(0,7)]\n",
    "c=random.sample(c,7)\n",
    "L=['Bug', 'Improvement', 'New Feature', 'Sub-task', 'Task', 'Test', 'Wish']\n",
    "issue_dic={}\n",
    "j=0\n",
    "for i in L:\n",
    "    issue_dic[i]=c[j]\n",
    "    j+=1\n",
    "print(issue_dic)"
   ]
  },
  {
   "cell_type": "code",
   "execution_count": 26,
   "metadata": {
    "slideshow": {
     "slide_type": "-"
    }
   },
   "outputs": [],
   "source": [
    "issue_types_num=[]\n",
    "for i in issue_types:\n",
    "    issue_types_num.append(issue_dic[i])\n"
   ]
  },
  {
   "cell_type": "code",
   "execution_count": 27,
   "metadata": {
    "slideshow": {
     "slide_type": "-"
    }
   },
   "outputs": [
    {
     "data": {
      "text/plain": [
       "[4, 1, 1, 1, 1, 1]"
      ]
     },
     "execution_count": 27,
     "metadata": {},
     "output_type": "execute_result"
    }
   ],
   "source": [
    "issue_types_num[:6]"
   ]
  },
  {
   "cell_type": "markdown",
   "metadata": {
    "slideshow": {
     "slide_type": "subslide"
    }
   },
   "source": [
    "# Priority "
   ]
  },
  {
   "cell_type": "code",
   "execution_count": 28,
   "metadata": {},
   "outputs": [],
   "source": [
    "priority=[]\n",
    "for t in t_open_resol:\n",
    "    i=t['index'][1]\n",
    "    priority.append(data_issues_transitions['priority'][i])\n"
   ]
  },
  {
   "cell_type": "code",
   "execution_count": 29,
   "metadata": {},
   "outputs": [
    {
     "data": {
      "text/plain": [
       "{'Blocker', 'Critical', 'Major', 'Minor', 'Trivial'}"
      ]
     },
     "execution_count": 29,
     "metadata": {},
     "output_type": "execute_result"
    }
   ],
   "source": [
    "set(priority)"
   ]
  },
  {
   "cell_type": "markdown",
   "metadata": {
    "slideshow": {
     "slide_type": "-"
    }
   },
   "source": [
    "In this case I will associate higher values to more difficult issues on the hypothesis that higher difficulty leads to longer time for resolution (according to JIRA documentation website).\n",
    "\n",
    "- Trivial:0\n",
    "- Minor:1\n",
    "- Major:2\n",
    "- Critical:3\n",
    "- Blocker:4"
   ]
  },
  {
   "cell_type": "code",
   "execution_count": 30,
   "metadata": {
    "slideshow": {
     "slide_type": "subslide"
    }
   },
   "outputs": [],
   "source": [
    "p_dic={'Trivial':0,'Minor':1,'Major':2,'Critical':3,'Blocker':4}\n",
    "\n",
    "priority_num=[]\n",
    "for i in priority:\n",
    "    priority_num.append(p_dic[i])\n"
   ]
  },
  {
   "cell_type": "code",
   "execution_count": 31,
   "metadata": {},
   "outputs": [
    {
     "data": {
      "text/plain": [
       "[2, 2, 2, 2, 0, 0, 2, 1, 2, 1]"
      ]
     },
     "execution_count": 31,
     "metadata": {},
     "output_type": "execute_result"
    }
   ],
   "source": [
    "priority_num[:10]"
   ]
  },
  {
   "cell_type": "markdown",
   "metadata": {
    "slideshow": {
     "slide_type": "subslide"
    }
   },
   "source": [
    "# Votes"
   ]
  },
  {
   "cell_type": "code",
   "execution_count": 32,
   "metadata": {},
   "outputs": [],
   "source": [
    "votes=[]\n",
    "for t in t_open_resol:\n",
    "    i=t['index'][1]\n",
    "    votes.append(data_issues_transitions['vote_count'][i])"
   ]
  },
  {
   "cell_type": "code",
   "execution_count": 33,
   "metadata": {},
   "outputs": [
    {
     "data": {
      "text/plain": [
       "{0, 1, 2, 3, 4, 5, 6, 7, 8, 9}"
      ]
     },
     "execution_count": 33,
     "metadata": {},
     "output_type": "execute_result"
    }
   ],
   "source": [
    "set(votes)"
   ]
  },
  {
   "cell_type": "markdown",
   "metadata": {
    "slideshow": {
     "slide_type": "subslide"
    }
   },
   "source": [
    "# Watch_Counts"
   ]
  },
  {
   "cell_type": "code",
   "execution_count": 34,
   "metadata": {},
   "outputs": [],
   "source": [
    "w_counts=[]\n",
    "for t in t_open_resol:\n",
    "    i=t['index'][1]\n",
    "    w_counts.append(data_issues_transitions['watch_count'][i])"
   ]
  },
  {
   "cell_type": "code",
   "execution_count": 35,
   "metadata": {},
   "outputs": [
    {
     "data": {
      "text/plain": [
       "{0, 1, 2, 3, 4, 5, 6, 7, 8, 9, 10, 11, 12, 14, 17, 18, 29, 33}"
      ]
     },
     "execution_count": 35,
     "metadata": {},
     "output_type": "execute_result"
    }
   ],
   "source": [
    "set(w_counts)"
   ]
  },
  {
   "cell_type": "markdown",
   "metadata": {
    "slideshow": {
     "slide_type": "subslide"
    }
   },
   "source": [
    "# Comments_Counts"
   ]
  },
  {
   "cell_type": "code",
   "execution_count": 36,
   "metadata": {},
   "outputs": [],
   "source": [
    "c_counts=[]\n",
    "for t in t_open_resol:\n",
    "    i=t['index'][1]\n",
    "    c_counts.append(data_issues_transitions['comment_count'][i])"
   ]
  },
  {
   "cell_type": "code",
   "execution_count": 37,
   "metadata": {},
   "outputs": [
    {
     "data": {
      "text/plain": [
       "51"
      ]
     },
     "execution_count": 37,
     "metadata": {},
     "output_type": "execute_result"
    }
   ],
   "source": [
    "C=list(set(c_counts))\n",
    "len(C)\n"
   ]
  },
  {
   "cell_type": "code",
   "execution_count": 38,
   "metadata": {},
   "outputs": [
    {
     "data": {
      "text/plain": [
       "[0, 3, 6, 9, 12, 15, 18, 21, 24, 27, 30, 33, 37, 41, 49, 58, 65]"
      ]
     },
     "execution_count": 38,
     "metadata": {},
     "output_type": "execute_result"
    }
   ],
   "source": [
    "C[0:51:3]"
   ]
  },
  {
   "cell_type": "markdown",
   "metadata": {
    "slideshow": {
     "slide_type": "subslide"
    }
   },
   "source": [
    "# Who_counts\n",
    "\n",
    "### Trying to include information about the authors"
   ]
  },
  {
   "cell_type": "code",
   "execution_count": 39,
   "metadata": {},
   "outputs": [],
   "source": [
    "who_counts=[]\n",
    "for t in t_open_resol:\n",
    "    j=t['index'][0]\n",
    "    i=t['index'][1]\n",
    "    aux=[]\n",
    "    for k in range(j,i): #NOTE: get the data up to the status just before 'Resolved'\n",
    "        aux.append(data_issues_transitions['who'][k])\n",
    "    who_counts.append(aux)\n"
   ]
  },
  {
   "cell_type": "code",
   "execution_count": 40,
   "metadata": {},
   "outputs": [
    {
     "data": {
      "text/plain": [
       "[['jmukesh'],\n",
       " ['jmukesh'],\n",
       " ['jmukesh'],\n",
       " ['jmukesh'],\n",
       " ['maxenglander', 'cutting'],\n",
       " ['phaas'],\n",
       " ['Tobi', 'Tobi'],\n",
       " ['vishelma', 'nkollar'],\n",
       " ['elmendavies', 'cutting'],\n",
       " ['gszadovszky', 'gszadovszky']]"
      ]
     },
     "execution_count": 40,
     "metadata": {},
     "output_type": "execute_result"
    }
   ],
   "source": [
    "who_counts[:10]"
   ]
  },
  {
   "cell_type": "markdown",
   "metadata": {
    "slideshow": {
     "slide_type": "subslide"
    }
   },
   "source": [
    "### Diversity and Resilience \n",
    "\n",
    "\n",
    "- more diversity if the Set={authors} is also bigger. That is, if there is more diversity on who makes the status changes\n",
    "\n",
    "- more resillience means that there are less authors making the most of the job. Practically, compute average from {author1 x n1, author2 x n2,...}, that is, compute average(n1,n2,...). Example, if there is a single author making N changes then I define resilience as N."
   ]
  },
  {
   "cell_type": "code",
   "execution_count": 41,
   "metadata": {
    "slideshow": {
     "slide_type": "subslide"
    }
   },
   "outputs": [],
   "source": [
    "# Diversity\n",
    "\n",
    "diversity=[]\n",
    "for a in who_counts:\n",
    "    s=set(a)\n",
    "    number=len(s)\n",
    "    diversity.append(number)\n"
   ]
  },
  {
   "cell_type": "code",
   "execution_count": 42,
   "metadata": {},
   "outputs": [
    {
     "data": {
      "text/plain": [
       "[1, 1, 1, 1, 2, 1, 1, 2, 2, 1]"
      ]
     },
     "execution_count": 42,
     "metadata": {},
     "output_type": "execute_result"
    }
   ],
   "source": [
    "diversity[0:10]"
   ]
  },
  {
   "cell_type": "code",
   "execution_count": 43,
   "metadata": {
    "slideshow": {
     "slide_type": "subslide"
    }
   },
   "outputs": [],
   "source": [
    "# Resilience\n",
    "\n",
    "resilience=[]\n",
    "for a in who_counts:\n",
    "    s=set(a)\n",
    "    aux=[]\n",
    "    for b in s:\n",
    "        c=a.count(b)\n",
    "        aux.append(c)\n",
    "    c=np.array(aux)\n",
    "    m=c.mean()\n",
    "    resilience.append(m)\n",
    "    "
   ]
  },
  {
   "cell_type": "code",
   "execution_count": 44,
   "metadata": {},
   "outputs": [
    {
     "data": {
      "text/plain": [
       "[1.0, 1.0, 1.0, 1.0, 1.0, 1.0, 2.0, 1.0, 1.0, 2.0]"
      ]
     },
     "execution_count": 44,
     "metadata": {},
     "output_type": "execute_result"
    }
   ],
   "source": [
    "resilience[:10]"
   ]
  },
  {
   "cell_type": "markdown",
   "metadata": {
    "slideshow": {
     "slide_type": "subslide"
    }
   },
   "source": [
    "# Number of interventions (not necessarily giving rise to a change of status)\n",
    "\n",
    "\n",
    "\n",
    "By intervention, I mean the number of contributions to the history of a particular issue.\n",
    "{histories: {author:... , items:...},\n",
    "              {author: ..., items: ...},\n",
    "              ...\n",
    "              \n",
    "This corresponds roughly to the variable 'total' in DATA['changelog'][i]['total']. However, we need to be careful because there can be issues with 'Reopened' statuses which require a more detailed counting.\n",
    "\n",
    "Also we have to count this number only up to/before the status becomes 'Resolved'."
   ]
  },
  {
   "cell_type": "markdown",
   "metadata": {
    "slideshow": {
     "slide_type": "subslide"
    }
   },
   "source": [
    "This information is in data_issues. First we create a set {'key'} of the issues that were resolved."
   ]
  },
  {
   "cell_type": "code",
   "execution_count": 45,
   "metadata": {},
   "outputs": [],
   "source": [
    "keys=[]\n",
    "for t in t_open_resol:\n",
    "    keys.append(t['key'])\n"
   ]
  },
  {
   "cell_type": "code",
   "execution_count": 46,
   "metadata": {},
   "outputs": [
    {
     "data": {
      "text/plain": [
       "['AVRO-2169', 'AVRO-2168', 'AVRO-2167', 'AVRO-2166', 'AVRO-2157']"
      ]
     },
     "execution_count": 46,
     "metadata": {},
     "output_type": "execute_result"
    }
   ],
   "source": [
    "keys[:5]"
   ]
  },
  {
   "cell_type": "code",
   "execution_count": 47,
   "metadata": {},
   "outputs": [],
   "source": [
    "interventions=[]\n",
    "key0='init'\n",
    "for key in keys:\n",
    "    if key!=key0:\n",
    "        i=data_issues.index[data_issues['key']==key] \n",
    "        i=i[0] #this is the index\n",
    "        a=data_issues['changelog'][i]['histories'] #it is a list\n",
    "        l=len(a)\n",
    "        aux=[]\n",
    "        for k in range(0,l):\n",
    "            for s in a[k]['items']: #items field can have many 'fields'\n",
    "                if s['field']=='status': #corresponds to a change of status\n",
    "                    aux.append([k,s['toString']])\n",
    "        for u in aux:\n",
    "            if u[1]=='Resolved':\n",
    "                interventions.append(u[0])\n",
    "    key0=key\n"
   ]
  },
  {
   "cell_type": "code",
   "execution_count": 48,
   "metadata": {
    "slideshow": {
     "slide_type": "subslide"
    }
   },
   "outputs": [
    {
     "data": {
      "text/plain": [
       "[0, 1, 0, 0, 2, 4, 8, 3, 4, 3]"
      ]
     },
     "execution_count": 48,
     "metadata": {},
     "output_type": "execute_result"
    }
   ],
   "source": [
    "interventions[:10]"
   ]
  },
  {
   "cell_type": "code",
   "execution_count": 49,
   "metadata": {},
   "outputs": [
    {
     "data": {
      "text/plain": [
       "1557"
      ]
     },
     "execution_count": 49,
     "metadata": {},
     "output_type": "execute_result"
    }
   ],
   "source": [
    "len(interventions)"
   ]
  },
  {
   "cell_type": "code",
   "execution_count": 50,
   "metadata": {},
   "outputs": [
    {
     "data": {
      "text/plain": [
       "1557"
      ]
     },
     "execution_count": 50,
     "metadata": {},
     "output_type": "execute_result"
    }
   ],
   "source": [
    "len(t_open_resol)"
   ]
  },
  {
   "cell_type": "markdown",
   "metadata": {},
   "source": [
    "dimensions agree!"
   ]
  },
  {
   "cell_type": "markdown",
   "metadata": {
    "slideshow": {
     "slide_type": "subslide"
    }
   },
   "source": [
    "# History of Status Change:\n",
    "\n",
    "- O: Open\n",
    "- I: In progress\n",
    "- P: Patch\n",
    "- R: Resolved\n",
    "- Re: Reopened\n",
    "\n",
    "Ex: I P I P I R Re R Re \n",
    "\n",
    "How do we encode such a sequence in the training data? Because it has variable dimension we can't just add additional columns. Its best to encode the sequence in a number. Make the identification:\n",
    "\n",
    "- O==0\n",
    "- I==1\n",
    "- P==2\n",
    "- R==3\n",
    "- Re==4\n"
   ]
  },
  {
   "cell_type": "markdown",
   "metadata": {
    "slideshow": {
     "slide_type": "subslide"
    }
   },
   "source": [
    "We can use a base-5 numeral system. That is,\n",
    "\n",
    "X={0,1,2,3,4}5^0+{0,1,2,3,4}5^1+{0,1,2,3,4}5^2+{0,1,2,3,4}5^3+...\n",
    "it is equivalent to the sequence\n",
    "\n",
    "X=={O,I,P,R,Re},{O,I,P,R,Re},{O,I,P,R,Re},{O,I,P,R,Re},...\n",
    "\n",
    "Example:\n",
    "Sequence: OIPIP -> 0x5^0+1x5^1+2x5^2+1x5^3+2x5^4=5+50+5^3+2x5^4=1430\n",
    "\n",
    "The map is one-to-one. Since it grows \"geometrically\", the emphasis is put on the last status since this is the term that contributes the most to the number."
   ]
  },
  {
   "cell_type": "code",
   "execution_count": 51,
   "metadata": {
    "slideshow": {
     "slide_type": "subslide"
    }
   },
   "outputs": [],
   "source": [
    "histories=[]\n",
    "l_trans=len(data_issues_transitions)\n",
    "\n",
    "for i in range(0,l_trans):\n",
    "    if data_issues_transitions['to_status'][i]=='Resolved':\n",
    "        j=i\n",
    "        aux=[]\n",
    "        while data_issues_transitions['to_status'][j]!='Open':\n",
    "            j-=1\n",
    "            aux.append(data_issues_transitions['to_status'][j])\n",
    "        histories.append(aux)"
   ]
  },
  {
   "cell_type": "code",
   "execution_count": 52,
   "metadata": {},
   "outputs": [
    {
     "data": {
      "text/plain": [
       "[['Open'],\n",
       " ['Open'],\n",
       " ['Open'],\n",
       " ['Open'],\n",
       " ['Patch Available', 'Open'],\n",
       " ['Open'],\n",
       " ['Patch Available', 'Open'],\n",
       " ['Patch Available', 'Open'],\n",
       " ['Patch Available', 'Open'],\n",
       " ['Patch Available', 'Open']]"
      ]
     },
     "execution_count": 52,
     "metadata": {},
     "output_type": "execute_result"
    }
   ],
   "source": [
    "histories[:10]"
   ]
  },
  {
   "cell_type": "markdown",
   "metadata": {
    "slideshow": {
     "slide_type": "subslide"
    }
   },
   "source": [
    "### Convert to base-5:"
   ]
  },
  {
   "cell_type": "markdown",
   "metadata": {},
   "source": [
    "Status {'Open','Patch Available', 'In Progress', 'Resolved', 'Reopened' and 'Closed'}"
   ]
  },
  {
   "cell_type": "code",
   "execution_count": 53,
   "metadata": {},
   "outputs": [],
   "source": [
    "base5={'Open':0,'In Progress':1,'Patch Available':2,'Resolved':3,'Reopened':4}"
   ]
  },
  {
   "cell_type": "code",
   "execution_count": 54,
   "metadata": {
    "slideshow": {
     "slide_type": "skip"
    }
   },
   "outputs": [
    {
     "data": {
      "text/plain": [
       "0"
      ]
     },
     "execution_count": 54,
     "metadata": {},
     "output_type": "execute_result"
    }
   ],
   "source": [
    "base5['Open']"
   ]
  },
  {
   "cell_type": "code",
   "execution_count": 55,
   "metadata": {},
   "outputs": [],
   "source": [
    "h_base5=[]\n",
    "for h in histories:\n",
    "    aux=[]\n",
    "    for a in h:\n",
    "        aux.append(base5[a])\n",
    "    h_base5.append(aux)\n",
    "\n",
    "#now convert to base-5 numeral system\n",
    "\n",
    "histories_b5=[]\n",
    "for h in h_base5:\n",
    "    c=0\n",
    "    j=0\n",
    "    l=len(h)\n",
    "    for i in range(l-1,-1,-1): #Note that it goes backward according to the assignment in histories[i]\n",
    "        c+=h[i]*(5**j)\n",
    "        j+=1\n",
    "    histories_b5.append(c)\n"
   ]
  },
  {
   "cell_type": "code",
   "execution_count": 56,
   "metadata": {
    "slideshow": {
     "slide_type": "subslide"
    }
   },
   "outputs": [
    {
     "data": {
      "text/plain": [
       "[0, 0, 0, 0, 10, 0, 10, 10, 10, 10, 0, 0, 0, 115, 10]"
      ]
     },
     "execution_count": 56,
     "metadata": {},
     "output_type": "execute_result"
    }
   ],
   "source": [
    "histories_b5[:15]"
   ]
  },
  {
   "cell_type": "code",
   "execution_count": 57,
   "metadata": {},
   "outputs": [
    {
     "data": {
      "text/plain": [
       "7160"
      ]
     },
     "execution_count": 57,
     "metadata": {},
     "output_type": "execute_result"
    }
   ],
   "source": [
    "max(histories_b5)"
   ]
  },
  {
   "cell_type": "code",
   "execution_count": 58,
   "metadata": {},
   "outputs": [
    {
     "name": "stdout",
     "output_type": "stream",
     "text": [
      "['Patch Available', 'In Progress', 'Patch Available', 'In Progress', 'Patch Available', 'Open']\n"
     ]
    }
   ],
   "source": [
    "l=len(histories)\n",
    "c=0\n",
    "for i in range(0,l):\n",
    "    c2=len(histories[i])\n",
    "    if c2>c:\n",
    "        c=c2\n",
    "\n",
    "for h in histories:\n",
    "    if len(h)==c:\n",
    "        print(h)\n"
   ]
  },
  {
   "cell_type": "code",
   "execution_count": 59,
   "metadata": {},
   "outputs": [
    {
     "data": {
      "text/plain": [
       "7160"
      ]
     },
     "execution_count": 59,
     "metadata": {},
     "output_type": "execute_result"
    }
   ],
   "source": [
    "0+2*5+1*5**2+2*5**3+1*5**4+2*5**5"
   ]
  },
  {
   "cell_type": "markdown",
   "metadata": {
    "slideshow": {
     "slide_type": "subslide"
    }
   },
   "source": [
    "# Target = Resolution Date"
   ]
  },
  {
   "cell_type": "code",
   "execution_count": 60,
   "metadata": {},
   "outputs": [
    {
     "data": {
      "text/plain": [
       "{'index': [6, 7],\n",
       " 'key': 'AVRO-2169',\n",
       " 'last_stat_notResol': '2018-04-06T13:45:28.721+0000',\n",
       " 'lifetime': 0.0,\n",
       " 'type': 'Improvement',\n",
       " 'whenOpen': '2018-04-06T13:45:28.721+0000',\n",
       " 'whenResol': '2018-04-24T06:34:58.789+0000'}"
      ]
     },
     "execution_count": 60,
     "metadata": {},
     "output_type": "execute_result"
    }
   ],
   "source": [
    "t_open_resol[0]"
   ]
  },
  {
   "cell_type": "markdown",
   "metadata": {},
   "source": [
    "Target=Resolution_Date - Open_Date\n"
   ]
  },
  {
   "cell_type": "code",
   "execution_count": 61,
   "metadata": {},
   "outputs": [
    {
     "data": {
      "text/plain": [
       "{'index': [45, 47],\n",
       " 'key': 'AVRO-2144',\n",
       " 'last_stat_notResol': '2018-02-14T11:12:00.613+0000',\n",
       " 'lifetime': 0.8393634259259259,\n",
       " 'type': 'Bug',\n",
       " 'whenOpen': '2018-02-13T15:17:17.774+0000',\n",
       " 'whenResol': '2018-02-16T17:38:25.671+0000'}"
      ]
     },
     "execution_count": 61,
     "metadata": {},
     "output_type": "execute_result"
    }
   ],
   "source": [
    "t_open_resol[7]"
   ]
  },
  {
   "cell_type": "code",
   "execution_count": 62,
   "metadata": {
    "slideshow": {
     "slide_type": "subslide"
    }
   },
   "outputs": [],
   "source": [
    "target=[]\n",
    "\n",
    "for t in t_open_resol:\n",
    "    t1=parse(t['whenOpen'])\n",
    "    t2=parse(t['whenResol'])\n",
    "    d=t2-t1\n",
    "    \n",
    "    d=Delta_days(d)\n",
    "    target.append(d)\n"
   ]
  },
  {
   "cell_type": "code",
   "execution_count": 63,
   "metadata": {},
   "outputs": [
    {
     "data": {
      "text/plain": [
       "[17.701828703703704,\n",
       " 18.71994212962963,\n",
       " 19.585196759259258,\n",
       " 19.5884375,\n",
       " 5.439629629629629]"
      ]
     },
     "execution_count": 63,
     "metadata": {},
     "output_type": "execute_result"
    }
   ],
   "source": [
    "target[:5]"
   ]
  },
  {
   "cell_type": "markdown",
   "metadata": {
    "slideshow": {
     "slide_type": "slide"
    }
   },
   "source": [
    "# Learning Algorithm"
   ]
  },
  {
   "cell_type": "markdown",
   "metadata": {
    "slideshow": {
     "slide_type": "subslide"
    }
   },
   "source": [
    "# Use RandomForestRegression Algorithm\n",
    "\n",
    "* X data:\n",
    "    - histories_b5\n",
    "    - interventions\n",
    "    - resilience\n",
    "    - diversity\n",
    "    - c_counts (comments_counts)\n",
    "    - w_counts (watch_counts)\n",
    "    - votes (vote_counts)\n",
    "    - priority_num (priority)\n",
    "    - issue_types_num\n",
    "    - lifetime: Date_Last_Status_Not_Resol - Date_Open\n",
    "\n",
    "\n",
    "* Y data (target)= Date_Resol- Date_Open :\n",
    "    - target\n",
    "\n",
    "One has 10 features and 1 target."
   ]
  },
  {
   "cell_type": "code",
   "execution_count": 64,
   "metadata": {
    "slideshow": {
     "slide_type": "subslide"
    }
   },
   "outputs": [],
   "source": [
    "features=['histories','interventions','resilience','diversity','comments','watch',\n",
    "          'votes','priority','issue_type','lifetime']"
   ]
  },
  {
   "cell_type": "code",
   "execution_count": 65,
   "metadata": {},
   "outputs": [
    {
     "data": {
      "text/plain": [
       "['histories',\n",
       " 'interventions',\n",
       " 'resilience',\n",
       " 'diversity',\n",
       " 'comments',\n",
       " 'watch',\n",
       " 'votes',\n",
       " 'priority',\n",
       " 'issue_type',\n",
       " 'lifetime']"
      ]
     },
     "execution_count": 65,
     "metadata": {},
     "output_type": "execute_result"
    }
   ],
   "source": [
    "features"
   ]
  },
  {
   "cell_type": "markdown",
   "metadata": {
    "slideshow": {
     "slide_type": "subslide"
    }
   },
   "source": [
    "Now we stack the various features column by column and then run the Algorithm. \n",
    "\n",
    "### Important:\n",
    "\n",
    "With all the data one finds that the algorithm performs very badly on the test set with scores aorund 35% while having high training scores ~ 90%. This is not an issue of overfitting or bias. It happens that we are including in the training set data which is very short lived with no or very little information about their past. For example:\n",
    "\n",
    "    - Open-> Resolved type of issues have zero lifetime, and thus with very little information \n",
    "    \n",
    "So we are trying to train our algorithm with data which does not fulfill our hypothesis. In a way, this data acts as noise and should be removed."
   ]
  },
  {
   "cell_type": "code",
   "execution_count": 86,
   "metadata": {
    "slideshow": {
     "slide_type": "skip"
    }
   },
   "outputs": [],
   "source": [
    "col=[]"
   ]
  },
  {
   "cell_type": "markdown",
   "metadata": {
    "slideshow": {
     "slide_type": "subslide"
    }
   },
   "source": [
    "\n",
    "We need to remove data that has lifetime=0. This data is introducing noise which lowers the performace of the algorithm significantly"
   ]
  },
  {
   "cell_type": "code",
   "execution_count": 67,
   "metadata": {},
   "outputs": [
    {
     "name": "stdout",
     "output_type": "stream",
     "text": [
      "1557\n"
     ]
    }
   ],
   "source": [
    "l2=len(histories_b5)\n",
    "print(l2)"
   ]
  },
  {
   "cell_type": "code",
   "execution_count": 68,
   "metadata": {},
   "outputs": [],
   "source": [
    "seq=[]\n",
    "for i in range(0,l2):\n",
    "    if t_open_resol[i]['lifetime']==0:\n",
    "        seq.append(i)"
   ]
  },
  {
   "cell_type": "code",
   "execution_count": 85,
   "metadata": {},
   "outputs": [
    {
     "data": {
      "text/plain": [
       "602"
      ]
     },
     "execution_count": 85,
     "metadata": {},
     "output_type": "execute_result"
    }
   ],
   "source": [
    "len(seq)"
   ]
  },
  {
   "cell_type": "markdown",
   "metadata": {
    "slideshow": {
     "slide_type": "subslide"
    }
   },
   "source": [
    "#### Remove data with lifetime=0"
   ]
  },
  {
   "cell_type": "code",
   "execution_count": 87,
   "metadata": {
    "slideshow": {
     "slide_type": "-"
    }
   },
   "outputs": [],
   "source": [
    "# add the data\\{lifetime=0}\n",
    "\n",
    "h_aux=[]\n",
    "for i in range(0,l2):\n",
    "    if i not in seq:\n",
    "        h_aux.append(histories_b5[i])\n",
    "    \n",
    "col.append(np.array(h_aux))"
   ]
  },
  {
   "cell_type": "code",
   "execution_count": 88,
   "metadata": {},
   "outputs": [],
   "source": [
    "i_aux=[]\n",
    "for i in range(0,l2):\n",
    "    if i not in seq:\n",
    "        i_aux.append(interventions[i])\n",
    "        \n",
    "col.append(np.array(i_aux))"
   ]
  },
  {
   "cell_type": "markdown",
   "metadata": {
    "slideshow": {
     "slide_type": "subslide"
    }
   },
   "source": [
    "### and so on for all the remaining data"
   ]
  },
  {
   "cell_type": "code",
   "execution_count": 89,
   "metadata": {
    "slideshow": {
     "slide_type": "skip"
    }
   },
   "outputs": [],
   "source": [
    "r_aux=[]\n",
    "for i in range(0,l2):\n",
    "    if i not in seq:\n",
    "        r_aux.append(resilience[i])\n",
    "\n",
    "col.append(np.array(r_aux))"
   ]
  },
  {
   "cell_type": "code",
   "execution_count": 90,
   "metadata": {
    "slideshow": {
     "slide_type": "skip"
    }
   },
   "outputs": [],
   "source": [
    "d_aux=[]\n",
    "for i in range(0,l2):\n",
    "    if i not in seq:\n",
    "        d_aux.append(diversity[i])\n",
    "col.append(np.array(d_aux))"
   ]
  },
  {
   "cell_type": "code",
   "execution_count": 91,
   "metadata": {
    "slideshow": {
     "slide_type": "skip"
    }
   },
   "outputs": [],
   "source": [
    "c_aux=[]\n",
    "for i in range(0,l2):\n",
    "    if i not in seq:\n",
    "        c_aux.append(c_counts[i])\n",
    "col.append(np.array(c_aux))"
   ]
  },
  {
   "cell_type": "code",
   "execution_count": 92,
   "metadata": {
    "slideshow": {
     "slide_type": "skip"
    }
   },
   "outputs": [],
   "source": [
    "w_aux=[]\n",
    "for i in range(0,l2):\n",
    "    if i not in seq:\n",
    "        w_aux.append(w_counts[i])\n",
    "col.append(np.array(w_aux))"
   ]
  },
  {
   "cell_type": "code",
   "execution_count": 93,
   "metadata": {
    "slideshow": {
     "slide_type": "skip"
    }
   },
   "outputs": [],
   "source": [
    "v_aux=[]\n",
    "for i in range(0,l2):\n",
    "    if i not in seq:\n",
    "        v_aux.append(votes[i])\n",
    "col.append(np.array(v_aux))"
   ]
  },
  {
   "cell_type": "code",
   "execution_count": 94,
   "metadata": {
    "slideshow": {
     "slide_type": "skip"
    }
   },
   "outputs": [],
   "source": [
    "p_aux=[]\n",
    "for i in range(0,l2):\n",
    "    if i not in seq:\n",
    "        p_aux.append(priority_num[i])\n",
    "col.append(np.array(p_aux))"
   ]
  },
  {
   "cell_type": "code",
   "execution_count": 95,
   "metadata": {
    "slideshow": {
     "slide_type": "skip"
    }
   },
   "outputs": [],
   "source": [
    "is_aux=[]\n",
    "for i in range(0,l2):\n",
    "    if i not in seq:\n",
    "        is_aux.append(issue_types_num[i])\n",
    "col.append(np.array(is_aux))"
   ]
  },
  {
   "cell_type": "code",
   "execution_count": 96,
   "metadata": {
    "slideshow": {
     "slide_type": "skip"
    }
   },
   "outputs": [],
   "source": [
    "lifetime=[]\n",
    "for t in t_open_resol:\n",
    "    a=t['lifetime']\n",
    "    lifetime.append(a)"
   ]
  },
  {
   "cell_type": "code",
   "execution_count": 97,
   "metadata": {
    "slideshow": {
     "slide_type": "skip"
    }
   },
   "outputs": [
    {
     "data": {
      "text/plain": [
       "1557"
      ]
     },
     "execution_count": 97,
     "metadata": {},
     "output_type": "execute_result"
    }
   ],
   "source": [
    "len(lifetime)"
   ]
  },
  {
   "cell_type": "code",
   "execution_count": 98,
   "metadata": {
    "slideshow": {
     "slide_type": "skip"
    }
   },
   "outputs": [],
   "source": [
    "l_aux=[]\n",
    "for i in range(0,l2):\n",
    "    if i not in seq:\n",
    "        l_aux.append(lifetime[i])\n",
    "col.append(np.array(l_aux))"
   ]
  },
  {
   "cell_type": "markdown",
   "metadata": {
    "slideshow": {
     "slide_type": "subslide"
    }
   },
   "source": [
    "### Assemble data in array X"
   ]
  },
  {
   "cell_type": "code",
   "execution_count": 99,
   "metadata": {},
   "outputs": [],
   "source": [
    "X=col[0]"
   ]
  },
  {
   "cell_type": "code",
   "execution_count": 100,
   "metadata": {},
   "outputs": [],
   "source": [
    "l=len(col)\n",
    "\n",
    "# stack the various columns\n",
    "\n",
    "for i in range(1,l):\n",
    "    X=np.column_stack((X,col[i]))"
   ]
  },
  {
   "cell_type": "code",
   "execution_count": 101,
   "metadata": {},
   "outputs": [
    {
     "data": {
      "text/plain": [
       "(955, 10)"
      ]
     },
     "execution_count": 101,
     "metadata": {},
     "output_type": "execute_result"
    }
   ],
   "source": [
    "X.shape"
   ]
  },
  {
   "cell_type": "markdown",
   "metadata": {
    "slideshow": {
     "slide_type": "subslide"
    }
   },
   "source": [
    "### Create Target data=Y "
   ]
  },
  {
   "cell_type": "code",
   "execution_count": 102,
   "metadata": {},
   "outputs": [],
   "source": [
    "trgt_aux=[]\n",
    "for i in range(0,l2):\n",
    "    if i not in seq:\n",
    "        trgt_aux.append(target[i])\n",
    "Y=np.array(trgt_aux)"
   ]
  },
  {
   "cell_type": "markdown",
   "metadata": {
    "slideshow": {
     "slide_type": "subslide"
    }
   },
   "source": [
    "# RandomForest Algorithm"
   ]
  },
  {
   "cell_type": "code",
   "execution_count": 103,
   "metadata": {
    "slideshow": {
     "slide_type": "subslide"
    }
   },
   "outputs": [],
   "source": [
    "from sklearn.ensemble import RandomForestRegressor\n"
   ]
  },
  {
   "cell_type": "code",
   "execution_count": 237,
   "metadata": {},
   "outputs": [],
   "source": [
    "RF=RandomForestRegressor(max_depth=10,n_estimators=40,random_state=20)"
   ]
  },
  {
   "cell_type": "markdown",
   "metadata": {},
   "source": [
    "Split data into train and test sets"
   ]
  },
  {
   "cell_type": "code",
   "execution_count": 105,
   "metadata": {},
   "outputs": [],
   "source": [
    "from sklearn.model_selection import train_test_split as tts"
   ]
  },
  {
   "cell_type": "code",
   "execution_count": 109,
   "metadata": {},
   "outputs": [],
   "source": [
    "X_train, X_test, Y_train, Y_test=tts(X,Y, random_state=0)"
   ]
  },
  {
   "cell_type": "code",
   "execution_count": 238,
   "metadata": {
    "slideshow": {
     "slide_type": "subslide"
    }
   },
   "outputs": [
    {
     "data": {
      "text/plain": [
       "RandomForestRegressor(bootstrap=True, criterion='mse', max_depth=10,\n",
       "           max_features='auto', max_leaf_nodes=None,\n",
       "           min_impurity_decrease=0.0, min_impurity_split=None,\n",
       "           min_samples_leaf=1, min_samples_split=2,\n",
       "           min_weight_fraction_leaf=0.0, n_estimators=40, n_jobs=1,\n",
       "           oob_score=False, random_state=20, verbose=0, warm_start=False)"
      ]
     },
     "execution_count": 238,
     "metadata": {},
     "output_type": "execute_result"
    }
   ],
   "source": [
    "RF.fit(X_train,Y_train)"
   ]
  },
  {
   "cell_type": "markdown",
   "metadata": {
    "slideshow": {
     "slide_type": "subslide"
    }
   },
   "source": [
    "### Scores of training and test"
   ]
  },
  {
   "cell_type": "code",
   "execution_count": 239,
   "metadata": {},
   "outputs": [
    {
     "data": {
      "text/plain": [
       "0.94562147087903248"
      ]
     },
     "execution_count": 239,
     "metadata": {},
     "output_type": "execute_result"
    }
   ],
   "source": [
    "RF.score(X_train,Y_train)"
   ]
  },
  {
   "cell_type": "code",
   "execution_count": 240,
   "metadata": {},
   "outputs": [
    {
     "data": {
      "text/plain": [
       "0.89069782015924215"
      ]
     },
     "execution_count": 240,
     "metadata": {},
     "output_type": "execute_result"
    }
   ],
   "source": [
    "RF.score(X_test,Y_test)"
   ]
  },
  {
   "cell_type": "markdown",
   "metadata": {
    "slideshow": {
     "slide_type": "subslide"
    }
   },
   "source": [
    "## Feature Importance"
   ]
  },
  {
   "cell_type": "markdown",
   "metadata": {
    "slideshow": {
     "slide_type": "skip"
    }
   },
   "source": [
    "Feature_importance"
   ]
  },
  {
   "cell_type": "code",
   "execution_count": 179,
   "metadata": {},
   "outputs": [],
   "source": [
    "import matplotlib.pyplot as plt"
   ]
  },
  {
   "cell_type": "code",
   "execution_count": 181,
   "metadata": {},
   "outputs": [],
   "source": [
    "def plot_feature_importances(model):\n",
    "    n_features = 10\n",
    "    plt.barh(range(n_features), model.feature_importances_, align='center') \n",
    "    plt.yticks(np.arange(n_features), \n",
    "    features) \n",
    "    plt.xlabel(\"Feature importance\")\n",
    "    plt.ylabel(\"Feature\")"
   ]
  },
  {
   "cell_type": "code",
   "execution_count": 241,
   "metadata": {
    "slideshow": {
     "slide_type": "subslide"
    }
   },
   "outputs": [
    {
     "data": {
      "image/png": "[encoded data removed]",
      "text/plain": [
       "<matplotlib.figure.Figure at 0x12e08e278>"
      ]
     },
     "metadata": {},
     "output_type": "display_data"
    }
   ],
   "source": [
    "plot_feature_importances(RF)"
   ]
  },
  {
   "cell_type": "markdown",
   "metadata": {
    "slideshow": {
     "slide_type": "subslide"
    }
   },
   "source": [
    "# KNeighborsRegressor"
   ]
  },
  {
   "cell_type": "code",
   "execution_count": 125,
   "metadata": {},
   "outputs": [],
   "source": [
    "from sklearn.neighbors import KNeighborsRegressor"
   ]
  },
  {
   "cell_type": "code",
   "execution_count": 288,
   "metadata": {},
   "outputs": [],
   "source": [
    "X_train, X_test, Y_train, Y_test=tts(X,Y,random_state=0)"
   ]
  },
  {
   "cell_type": "code",
   "execution_count": 146,
   "metadata": {},
   "outputs": [],
   "source": [
    "reg=KNeighborsRegressor(n_neighbors=5)"
   ]
  },
  {
   "cell_type": "code",
   "execution_count": 147,
   "metadata": {},
   "outputs": [
    {
     "data": {
      "text/plain": [
       "KNeighborsRegressor(algorithm='auto', leaf_size=30, metric='minkowski',\n",
       "          metric_params=None, n_jobs=1, n_neighbors=5, p=2,\n",
       "          weights='uniform')"
      ]
     },
     "execution_count": 147,
     "metadata": {},
     "output_type": "execute_result"
    }
   ],
   "source": [
    "reg.fit(X_train,Y_train)"
   ]
  },
  {
   "cell_type": "markdown",
   "metadata": {
    "slideshow": {
     "slide_type": "subslide"
    }
   },
   "source": [
    "### Scores"
   ]
  },
  {
   "cell_type": "code",
   "execution_count": 148,
   "metadata": {},
   "outputs": [
    {
     "data": {
      "text/plain": [
       "0.84793718912931559"
      ]
     },
     "execution_count": 148,
     "metadata": {},
     "output_type": "execute_result"
    }
   ],
   "source": [
    "reg.score(X_train,Y_train)"
   ]
  },
  {
   "cell_type": "code",
   "execution_count": 149,
   "metadata": {},
   "outputs": [
    {
     "data": {
      "text/plain": [
       "0.75190741991644583"
      ]
     },
     "execution_count": 149,
     "metadata": {},
     "output_type": "execute_result"
    }
   ],
   "source": [
    "reg.score(X_test,Y_test)"
   ]
  },
  {
   "cell_type": "markdown",
   "metadata": {
    "slideshow": {
     "slide_type": "subslide"
    }
   },
   "source": [
    "# Lasso Regression"
   ]
  },
  {
   "cell_type": "code",
   "execution_count": 253,
   "metadata": {},
   "outputs": [],
   "source": [
    "from sklearn.linear_model import Lasso"
   ]
  },
  {
   "cell_type": "code",
   "execution_count": 264,
   "metadata": {},
   "outputs": [],
   "source": [
    "lasso=Lasso(alpha=0.1)"
   ]
  },
  {
   "cell_type": "code",
   "execution_count": 265,
   "metadata": {},
   "outputs": [
    {
     "data": {
      "text/plain": [
       "Lasso(alpha=0.1, copy_X=True, fit_intercept=True, max_iter=1000,\n",
       "   normalize=False, positive=False, precompute=False, random_state=None,\n",
       "   selection='cyclic', tol=0.0001, warm_start=False)"
      ]
     },
     "execution_count": 265,
     "metadata": {},
     "output_type": "execute_result"
    }
   ],
   "source": [
    "lasso.fit(X_train,Y_train)"
   ]
  },
  {
   "cell_type": "markdown",
   "metadata": {
    "slideshow": {
     "slide_type": "subslide"
    }
   },
   "source": [
    "### Scores"
   ]
  },
  {
   "cell_type": "code",
   "execution_count": 266,
   "metadata": {},
   "outputs": [
    {
     "data": {
      "text/plain": [
       "0.79379648346830123"
      ]
     },
     "execution_count": 266,
     "metadata": {},
     "output_type": "execute_result"
    }
   ],
   "source": [
    "lasso.score(X_train,Y_train)"
   ]
  },
  {
   "cell_type": "code",
   "execution_count": 267,
   "metadata": {},
   "outputs": [
    {
     "data": {
      "text/plain": [
       "0.91298638789048736"
      ]
     },
     "execution_count": 267,
     "metadata": {},
     "output_type": "execute_result"
    }
   ],
   "source": [
    "lasso.score(X_test,Y_test)"
   ]
  },
  {
   "cell_type": "markdown",
   "metadata": {
    "slideshow": {
     "slide_type": "subslide"
    }
   },
   "source": [
    "# GradientBoostingRegressor"
   ]
  },
  {
   "cell_type": "code",
   "execution_count": 169,
   "metadata": {},
   "outputs": [],
   "source": [
    "from sklearn.ensemble import GradientBoostingRegressor"
   ]
  },
  {
   "cell_type": "code",
   "execution_count": 314,
   "metadata": {},
   "outputs": [],
   "source": [
    "GBR=GradientBoostingRegressor(alpha=0.001,n_estimators=200, random_state=34)"
   ]
  },
  {
   "cell_type": "code",
   "execution_count": 315,
   "metadata": {},
   "outputs": [
    {
     "data": {
      "text/plain": [
       "GradientBoostingRegressor(alpha=0.001, criterion='friedman_mse', init=None,\n",
       "             learning_rate=0.1, loss='ls', max_depth=3, max_features=None,\n",
       "             max_leaf_nodes=None, min_impurity_decrease=0.0,\n",
       "             min_impurity_split=None, min_samples_leaf=1,\n",
       "             min_samples_split=2, min_weight_fraction_leaf=0.0,\n",
       "             n_estimators=200, presort='auto', random_state=34,\n",
       "             subsample=1.0, verbose=0, warm_start=False)"
      ]
     },
     "execution_count": 315,
     "metadata": {},
     "output_type": "execute_result"
    }
   ],
   "source": [
    "GBR.fit(X_train,Y_train)"
   ]
  },
  {
   "cell_type": "markdown",
   "metadata": {
    "slideshow": {
     "slide_type": "subslide"
    }
   },
   "source": [
    "### Scores"
   ]
  },
  {
   "cell_type": "code",
   "execution_count": 316,
   "metadata": {},
   "outputs": [
    {
     "data": {
      "text/plain": [
       "0.97502044821566325"
      ]
     },
     "execution_count": 316,
     "metadata": {},
     "output_type": "execute_result"
    }
   ],
   "source": [
    "GBR.score(X_train,Y_train)"
   ]
  },
  {
   "cell_type": "code",
   "execution_count": 317,
   "metadata": {},
   "outputs": [
    {
     "data": {
      "text/plain": [
       "0.85399289197615214"
      ]
     },
     "execution_count": 317,
     "metadata": {},
     "output_type": "execute_result"
    }
   ],
   "source": [
    "GBR.score(X_test,Y_test)"
   ]
  },
  {
   "cell_type": "markdown",
   "metadata": {
    "slideshow": {
     "slide_type": "slide"
    }
   },
   "source": [
    "# Discussion"
   ]
  },
  {
   "cell_type": "markdown",
   "metadata": {
    "slideshow": {
     "slide_type": "subslide"
    }
   },
   "source": [
    "* Of the algorithms tried, the RandomForest produces a better score on the test data. It is not a very high score ~ 89%, which probably means that we need to introduce additional features. For example, how to include time evolution?\n",
    "\n",
    "\n",
    "* On the other hand, the GradientBoostingRegressor has a very high training score ~ 97% but lower test score ~85%. I think the higher training score is due to higher complexity of the algorithm that can fit the training data very well. I was not able to find a different choice of parameters that increases the test score. \n",
    "\n",
    "\n",
    "* What do we do with the lifetime=0 data? I decided to treat this data as part of new data. Perhaps we should be more careful and try to find other features that can characterize this data.\n",
    "\n",
    "\n",
    "* The RandomForest puts a lot of importance on lifetime. This is also the reason why the algorithm was performing badly on the test set with the lifetime=0 data. In fact, lifetime can explain around 90% of the data while the other features are sort of irrelevant."
   ]
  },
  {
   "cell_type": "markdown",
   "metadata": {
    "slideshow": {
     "slide_type": "slide"
    }
   },
   "source": [
    "# Conclusions\n",
    "\n",
    "\n",
    "\n",
    "\n",
    "* RandomForest gives the best test_score. But this result needs improvement.\n",
    "\n",
    "\n",
    "* Lifetime is the most important feature.\n",
    "\n",
    "\n",
    "* Need more features. Perhaps more data?"
   ]
  },
  {
   "cell_type": "markdown",
   "metadata": {
    "slideshow": {
     "slide_type": "slide"
    }
   },
   "source": [
    "# Brief Explanation of the Scripts"
   ]
  },
  {
   "cell_type": "markdown",
   "metadata": {
    "slideshow": {
     "slide_type": "subslide"
    }
   },
   "source": [
    "### Fake_GET script"
   ]
  },
  {
   "cell_type": "code",
   "execution_count": null,
   "metadata": {
    "slideshow": {
     "slide_type": "-"
    }
   },
   "outputs": [],
   "source": [
    "from flask import Flask, jsonify\n",
    "from flask import abort\n",
    "from flask import make_response\n",
    "\n",
    "app = Flask(__name__)\n",
    "\n",
    "# http://localhost:5000/api/...\n",
    "\n",
    "@app.route('/api/issue/<name>/resolve-fake', methods=['GET'])\n",
    "\n",
    "def get_task(name):\n",
    "    if len(name) == 0:\n",
    "        abort(404)\n",
    "    task={'issue':name, 'predicted_resolution_date': '1984-01-01T00:00:00.000+0000'}\n",
    "    return jsonify(task)\n",
    "\n",
    "\n",
    "@app.errorhandler(404)\n",
    "def not_found(error):\n",
    "    return make_response(jsonify({'error': 'Not found'}), 404)\n",
    "\n",
    "if __name__ == '__main__':\n",
    "    app.run(debug=True)"
   ]
  },
  {
   "cell_type": "markdown",
   "metadata": {
    "slideshow": {
     "slide_type": "subslide"
    }
   },
   "source": [
    "### Prediction_GET\n"
   ]
  },
  {
   "cell_type": "code",
   "execution_count": null,
   "metadata": {},
   "outputs": [],
   "source": [
    "import pickle    # <---- Load the regression model\n",
    "import numpy as np\n",
    "import pandas as pd\n",
    "\n",
    "from dateutil.parser import parse\n",
    "from datetime import timedelta\n",
    "\n",
    "import json\n",
    "\n",
    "app = Flask(__name__)\n",
    "\n",
    "\n",
    "filename='AVRO-RForest-prediction.sav' #where the model was saved\n",
    "\n",
    "loaded_model = pickle.load(open(filename, 'rb')) #loads the model\n",
    "\n",
    "print(\"Loading data...\")\n",
    "# NOTE: data is in a folder named data and this folder is in the same folder of the script\n",
    "\n",
    "data_issues_transitions=pd.read_csv('data/avro-transitions.csv')\n",
    "\n",
    "data_issues_csv=pd.read_csv('data/avro-issues.csv')\n",
    "\n",
    "data_issues=pd.read_json('data/avro-issues.json',lines=True)\n",
    "\n",
    "print(\"Data is loaded.\")"
   ]
  },
  {
   "cell_type": "markdown",
   "metadata": {
    "slideshow": {
     "slide_type": "subslide"
    }
   },
   "source": [
    "### Prepare data with function prepare_data(i)"
   ]
  },
  {
   "cell_type": "code",
   "execution_count": null,
   "metadata": {
    "slideshow": {
     "slide_type": "-"
    }
   },
   "outputs": [],
   "source": [
    "def prepare_data(i): #i: index of row in data_issues_csv\n",
    "    #it puts out an array which we can use to predict a target\n",
    "  \n",
    "    \n",
    "    key=data_issues_csv['key'][i]\n",
    "    j=data_issues_transitions.index[data_issues_transitions['key']==key]\n",
    "    j=list(j)\n",
    "    \n",
    "    l=len(j)\n",
    "    k1=j[0]\n",
    "    k2=j[l-1]\n",
    "    t_data={'key': key,\n",
    "        'type': data_issues_transitions['issue_type'][k1],\n",
    "        'whenOpen': data_issues_transitions['created'][k1],\n",
    "        'current':data_issues_transitions['when'][k2]}\n",
    "    t1=parse(t_data['whenOpen'])\n",
    "    t2=parse(t_data['current'])\n",
    "    delta=t2-t1\n",
    "    t_data['lifetime']=Delta_days(delta)\n",
    "    \n",
    "    issue_type=data_issues_transitions['issue_type'][k1]\n",
    "    issue_dic=np.load('issue_type_dic.npy').item() #loads the dictionary\n",
    "    issue_num=issue_dic[issue_type]"
   ]
  },
  {
   "cell_type": "code",
   "execution_count": null,
   "metadata": {
    "slideshow": {
     "slide_type": "subslide"
    }
   },
   "outputs": [],
   "source": [
    "@app.route('/api/issue/<name>/resolve-prediction', methods=['GET']) # # http://localhost:5000/api/...\n",
    "# name: key of the issue\n",
    "\n",
    "def get_task(name):\n",
    "    if len(name) == 0:\n",
    "        abort(404)\n",
    "    i=get_index(name)\n",
    "    \n",
    "    if i=='none':\n",
    "        abort(404)\n",
    "    else:\n",
    "        i=int(i)\n",
    "        if data_issues_csv['status'][i]=='Resolved':\n",
    "            date_resol=data_issues_csv['resolutiondate'][i]\n",
    "            task={'issue':name, 'resolution_date': date_resol}\n",
    "        else:\n",
    "            x=prepare_data(i) #the input\n",
    "            y_predict=loaded_model.predict(x)\n",
    "            days_predict=y_predict[0] #just one point\n",
    "            date_current_status=data_issues_csv['updated'][i]\n",
    "            date_cur=parse(date_current_status)\n",
    "            date_resol=date_cur+days_to_datetime(days_predict)\n",
    "            date_string=date_resol.isoformat()\n",
    "            task={'issue':name, 'predicted_resolution_date': date_string}\n",
    "        \n",
    "        \n",
    "    return jsonify(task)\n"
   ]
  },
  {
   "cell_type": "markdown",
   "metadata": {
    "slideshow": {
     "slide_type": "subslide"
    }
   },
   "source": [
    "### Release_Plan script"
   ]
  },
  {
   "cell_type": "code",
   "execution_count": null,
   "metadata": {},
   "outputs": [],
   "source": [
    "filename='AVRO-RForest-prediction.sav' #where the model was saved\n",
    "\n",
    "loaded_model = pickle.load(open(filename, 'rb')) #loads the model\n",
    "\n",
    "print(\"Loading data...\")\n",
    "# NOTE: data is in a folder named data and this folder is in the same folder of the script\n",
    "\n",
    "data_issues_transitions=pd.read_csv('data/avro-transitions.csv')\n",
    "\n",
    "data_issues_csv=pd.read_csv('data/avro-issues.csv')\n",
    "\n",
    "data_issues=pd.read_json('data/avro-issues.json',lines=True)\n",
    "\n",
    "print(\"Data is loaded.\")\n",
    "\n",
    "\n",
    "def Delta_days(x):\n",
    "    seconds=x.seconds+x.microseconds/1000\n",
    "    total=x.days+seconds/(24*3600)\n",
    "    return total\n",
    "\n",
    "def prepare_data(i): #i: index of row in data_issues_csv\n",
    "    #it puts out an array which we can use to predict a target\n",
    "  "
   ]
  },
  {
   "cell_type": "code",
   "execution_count": null,
   "metadata": {
    "slideshow": {
     "slide_type": "subslide"
    }
   },
   "outputs": [],
   "source": [
    "@app.route('/api/release/<date>/resolved-since-now', methods=['GET'])\n",
    "\n",
    "#date not necessarily in ISOformat\n",
    "\n",
    "def get_task(date):\n",
    "    if len(date) == 0:\n",
    "        abort(404)\n",
    "    #define the data of json extraction. I will take the date of two weeks ago.\n",
    "    \n",
    "    date_extract= '2018-07-16T15:00:00.000+0000'\n",
    "    \n",
    "    lst=[]\n",
    "    s=str()\n",
    "    l=len(date)\n",
    "    \n",
    "    for u in range(0,l):     \n",
    "        if date[u]!='-':\n",
    "            s+=date[u]\n",
    "            if u==l-1:\n",
    "                lst.append(s)\n",
    "        else:\n",
    "            lst.append(s)\n",
    "            s=str()"
   ]
  },
  {
   "cell_type": "code",
   "execution_count": null,
   "metadata": {
    "slideshow": {
     "slide_type": "subslide"
    }
   },
   "outputs": [],
   "source": [
    "resolved=[]\n",
    "    for i in lst_non_resol:\n",
    "        x=prepare_data(i) #the input\n",
    "        y_predict=loaded_model.predict(x)\n",
    "        days_predict=y_predict[0] #just one point\n",
    "        date_current_status=data_issues_csv['updated'][i]\n",
    "        date_cur=parse(date_current_status)\n",
    "        date_resol=date_cur+days_to_datetime(days_predict)\n",
    "        \n",
    "        if len(date_list)==3: #there should be a match between years, month and days\n",
    "            if date_resol.year==date_list[0] and date_resol.month==date_list[1] and date_resol.day==date_list[2]:\n",
    "                key=data_issues_csv['key'][i]\n",
    "                date_string=date_resol.isoformat()\n",
    "                resolved.append({'key':key,'predicted_resolution_date':date_string})\n",
    "        if len(date_list)==2: #only month and year are required to match\n",
    "            if date_resol.year==date_list[0] and date_resol.month==date_list[1]:\n",
    "                key=data_issues_csv['key'][i]\n",
    "                date_string=date_resol.isoformat()\n",
    "                resolved.append({'issue':key,'predicted_resolution_date':date_string})\n",
    "    if len(resolved)==0:\n",
    "        abort(404)\n",
    "    else:\n",
    "        task={'now':date_extract, 'issues': resolved}\n",
    "        \n",
    "        \n",
    "    return jsonify(task)"
   ]
  }
 ],
 "metadata": {
  "celltoolbar": "Slideshow",
  "kernelspec": {
   "display_name": "Python 3",
   "language": "python",
   "name": "python3"
  },
  "language_info": {
   "codemirror_mode": {
    "name": "ipython",
    "version": 3
   },
   "file_extension": ".py",
   "mimetype": "text/x-python",
   "name": "python",
   "nbconvert_exporter": "python",
   "pygments_lexer": "ipython3",
   "version": "3.6.6"
  }
 },
 "nbformat": 4,
 "nbformat_minor": 2
}
